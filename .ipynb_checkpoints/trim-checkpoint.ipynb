{
 "cells": [
  {
   "cell_type": "code",
   "execution_count": 1,
   "metadata": {},
   "outputs": [
    {
     "name": "stdout",
     "output_type": "stream",
     "text": [
      "mv: rename .fastq to .fq: No such file or directory\n"
     ]
    }
   ],
   "source": [
    "!mv \"$HIPPLAT_NEF95054_S2_R1.fastq\" \"$(basename \"$HIPPLAT_NEF95054_S2_R1\" .fastq).fq\""
   ]
  },
  {
   "cell_type": "code",
   "execution_count": 2,
   "metadata": {},
   "outputs": [
    {
     "name": "stdout",
     "output_type": "stream",
     "text": [
      "/Users/laurelnave-powers/Desktop/GitHub/Laurel-genes\n"
     ]
    }
   ],
   "source": [
    "!pwd"
   ]
  },
  {
   "cell_type": "code",
   "execution_count": 5,
   "metadata": {},
   "outputs": [
    {
     "name": "stdout",
     "output_type": "stream",
     "text": [
      "/Users/laurelnave-powers/Desktop/GitHub/Laurel-genes/data\n"
     ]
    }
   ],
   "source": [
    "cd /Users/laurelnave-powers/Desktop/GitHub/Laurel-genes/data"
   ]
  },
  {
   "cell_type": "code",
   "execution_count": 6,
   "metadata": {},
   "outputs": [
    {
     "name": "stdout",
     "output_type": "stream",
     "text": [
      "/Users/laurelnave-powers/Desktop/GitHub/Laurel-genes/data\n"
     ]
    }
   ],
   "source": [
    "!pwd"
   ]
  },
  {
   "cell_type": "code",
   "execution_count": 11,
   "metadata": {},
   "outputs": [],
   "source": [
    "!mv \"HIPPLAT_NEF95054_S2_R1.fastq\" \"$(basename \"HIPPLAT_NEF95054_S2_R1\" .fastq).fq\""
   ]
  },
  {
   "cell_type": "code",
   "execution_count": 12,
   "metadata": {},
   "outputs": [
    {
     "name": "stdout",
     "output_type": "stream",
     "text": [
      "\u001b[31mHIPPLAT_NEF95054_S2_R1.fq\u001b[m\u001b[m    \u001b[31mMICPACI_UW157426_S7_R2.fastq\u001b[m\u001b[m\n",
      "\u001b[31mHIPPLAT_NEF95054_S2_R2.fastq\u001b[m\u001b[m \u001b[34mraw\u001b[m\u001b[m\n",
      "\u001b[31mMICPACI_UW157426_S7_R1.fastq\u001b[m\u001b[m\n"
     ]
    }
   ],
   "source": [
    "!ls"
   ]
  },
  {
   "cell_type": "code",
   "execution_count": 13,
   "metadata": {},
   "outputs": [],
   "source": [
    "!mv \"HIPPLAT_NEF95054_S2_R2.fastq\" \"$(basename \"HIPPLAT_NEF95054_S2_R2\" .fastq).fq\""
   ]
  },
  {
   "cell_type": "code",
   "execution_count": 14,
   "metadata": {},
   "outputs": [
    {
     "name": "stdout",
     "output_type": "stream",
     "text": [
      "\u001b[31mHIPPLAT_NEF95054_S2_R1.fq\u001b[m\u001b[m    \u001b[31mMICPACI_UW157426_S7_R2.fastq\u001b[m\u001b[m\n",
      "\u001b[31mHIPPLAT_NEF95054_S2_R2.fq\u001b[m\u001b[m    \u001b[34mraw\u001b[m\u001b[m\n",
      "\u001b[31mMICPACI_UW157426_S7_R1.fastq\u001b[m\u001b[m\n"
     ]
    }
   ],
   "source": [
    "!ls"
   ]
  },
  {
   "cell_type": "code",
   "execution_count": 15,
   "metadata": {},
   "outputs": [],
   "source": [
    "!mv \"MICPACI_UW157426_S7_R1.fastq\" \"$(basename \"MICPACI_UW157426_S7_R1\" .fastq).fq\""
   ]
  },
  {
   "cell_type": "code",
   "execution_count": 16,
   "metadata": {},
   "outputs": [],
   "source": [
    "!mv \"MICPACI_UW157426_S7_R2.fastq\" \"$(basename \"MICPACI_UW157426_S7_R2\" .fastq).fq\""
   ]
  },
  {
   "cell_type": "code",
   "execution_count": 17,
   "metadata": {},
   "outputs": [
    {
     "name": "stdout",
     "output_type": "stream",
     "text": [
      "\u001b[31mHIPPLAT_NEF95054_S2_R1.fq\u001b[m\u001b[m \u001b[31mMICPACI_UW157426_S7_R1.fq\u001b[m\u001b[m \u001b[34mraw\u001b[m\u001b[m\n",
      "\u001b[31mHIPPLAT_NEF95054_S2_R2.fq\u001b[m\u001b[m \u001b[31mMICPACI_UW157426_S7_R2.fq\u001b[m\u001b[m\n"
     ]
    }
   ],
   "source": [
    "!ls"
   ]
  },
  {
   "cell_type": "markdown",
   "metadata": {},
   "source": [
    "I have successfully changed my fastq files into fq files. They have to be .fq in order to work as input files for the perl script trim_adaptor.pl "
   ]
  },
  {
   "cell_type": "code",
   "execution_count": 18,
   "metadata": {},
   "outputs": [
    {
     "name": "stdout",
     "output_type": "stream",
     "text": [
      "/Users/laurelnave-powers/Desktop/GitHub/Laurel-genes\n"
     ]
    }
   ],
   "source": [
    "cd ../"
   ]
  },
  {
   "cell_type": "code",
   "execution_count": 20,
   "metadata": {},
   "outputs": [
    {
     "name": "stdout",
     "output_type": "stream",
     "text": [
      "Can't locate Parallel/ForkManager.pm in @INC (you may need to install the Parallel::ForkManager module) (@INC contains: /Library/Perl/5.18/darwin-thread-multi-2level /Library/Perl/5.18 /Network/Library/Perl/5.18/darwin-thread-multi-2level /Network/Library/Perl/5.18 /Library/Perl/Updates/5.18.4 /System/Library/Perl/5.18/darwin-thread-multi-2level /System/Library/Perl/5.18 /System/Library/Perl/Extras/5.18/darwin-thread-multi-2level /System/Library/Perl/Extras/5.18 .) at trim_adaptor.pl line 6.\n",
      "BEGIN failed--compilation aborted at trim_adaptor.pl line 6.\n"
     ]
    }
   ],
   "source": [
    "!perl trim_adaptor.pl -h"
   ]
  },
  {
   "cell_type": "markdown",
   "metadata": {},
   "source": [
    "I need to install the Parallel/ForkManager.pm before using this script "
   ]
  },
  {
   "cell_type": "code",
   "execution_count": null,
   "metadata": {},
   "outputs": [],
   "source": []
  }
 ],
 "metadata": {
  "kernelspec": {
   "display_name": "Python 3",
   "language": "python",
   "name": "python3"
  },
  "language_info": {
   "codemirror_mode": {
    "name": "ipython",
    "version": 3
   },
   "file_extension": ".py",
   "mimetype": "text/x-python",
   "name": "python",
   "nbconvert_exporter": "python",
   "pygments_lexer": "ipython3",
   "version": "3.8.5"
  }
 },
 "nbformat": 4,
 "nbformat_minor": 4
}
