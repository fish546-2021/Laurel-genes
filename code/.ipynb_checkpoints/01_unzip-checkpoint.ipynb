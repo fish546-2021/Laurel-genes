{
 "cells": [
  {
   "cell_type": "markdown",
   "metadata": {},
   "source": [
    "## A first glance at my data"
   ]
  },
  {
   "cell_type": "markdown",
   "metadata": {},
   "source": [
    "### I am starting with two species of flatfish, each with two fastq files of raw reads, one forward and one reverse. "
   ]
  },
  {
   "cell_type": "code",
   "execution_count": 1,
   "metadata": {},
   "outputs": [
    {
     "name": "stdout",
     "output_type": "stream",
     "text": [
      "/Users/laurelnave-powers/Desktop/GitHub/Laurel-genes/code\n"
     ]
    }
   ],
   "source": [
    "!pwd"
   ]
  },
  {
   "cell_type": "code",
   "execution_count": 5,
   "metadata": {},
   "outputs": [
    {
     "name": "stdout",
     "output_type": "stream",
     "text": [
      "/Users/laurelnave-powers/Desktop/GitHub/Laurel-genes/data\n"
     ]
    }
   ],
   "source": [
    "cd /Users/laurelnave-powers/Desktop/GitHub/Laurel-genes/data"
   ]
  },
  {
   "cell_type": "code",
   "execution_count": 6,
   "metadata": {},
   "outputs": [
    {
     "name": "stdout",
     "output_type": "stream",
     "text": [
      "/Users/laurelnave-powers/Desktop/GitHub/Laurel-genes/data\n"
     ]
    }
   ],
   "source": [
    "!pwd"
   ]
  },
  {
   "cell_type": "code",
   "execution_count": 7,
   "metadata": {},
   "outputs": [
    {
     "name": "stdout",
     "output_type": "stream",
     "text": [
      "total 0\n",
      "drwxr-xr-x@ 7 laurelnave-powers  staff  224 Feb 11 09:08 \u001b[34mdemultiplexed\u001b[m\u001b[m\n",
      "drwxr-xr-x@ 6 laurelnave-powers  staff  192 Feb  9 10:31 \u001b[34mraw\u001b[m\u001b[m\n"
     ]
    }
   ],
   "source": [
    "!ls -l"
   ]
  },
  {
   "cell_type": "code",
   "execution_count": 14,
   "metadata": {},
   "outputs": [],
   "source": [
    "!cd /Users/laurelnave-powers/Desktop/GitHub/Laurel-genes/data/"
   ]
  },
  {
   "cell_type": "code",
   "execution_count": 15,
   "metadata": {},
   "outputs": [
    {
     "name": "stdout",
     "output_type": "stream",
     "text": [
      "/Users/laurelnave-powers/Desktop/GitHub/Laurel-genes\n"
     ]
    }
   ],
   "source": [
    "!pwd"
   ]
  },
  {
   "cell_type": "markdown",
   "metadata": {},
   "source": [
    "#### It isn't letting me change directories into my data folder for some reason. So in the interest of getting this done now I moved the files into the Laurel-genes folder. Eventually I need to have them in the data folder. \n",
    "\n",
    "### First I will look at the forward file of the first species, Hippoglossoides platessoides. "
   ]
  },
  {
   "cell_type": "code",
   "execution_count": 19,
   "metadata": {},
   "outputs": [
    {
     "name": "stdout",
     "output_type": "stream",
     "text": [
      "����k�\u0002�G��\u001d",
      "����w�P\u00115�Fh\t\u001c",
      "\u0014�G�\u0015m�\u0005[�҇��0�1\u001d",
      "T\u0012C~�P*\u0006��12G914\f",
      "�S\\\u0007�GP���x�\\l�^�y�Uȷ\u001f�������\f",
      "�\u001d",
      "a\u0000�NX��Hw�G\u001c",
      "�X��g�������\u001ai�%�f(�\u0019`i���V�\u0007ZT\u0005�cE[a��ϟ@�f���Sު{��q�\u0004y��A���\u001e",
      "A|��8��\u0001*�p�\t�w�Y�}�@#ŗn`]����hVuW��}�?�=J������������=U^^�l����B����w7\f",
      "�}o����!��\u000e�\u0003���?����Q�\u0017|�/�\\9V�\u0007c�՝�\u0007,v\u0003���i�x��R|\u001d",
      "��@�nn�d��FlZ\u0003�\u001c",
      "g \u001aw��v�� \u000f�ψ/�\u0011����ҭA~ڝ?A��\u0019q`��ʥ�\u001f��i\u0001k\u00021�v\u000b",
      "?9p�\u0006��:hIZVӪ\u001d",
      "ڰug\u000f��\u000f\u0013���'׿�=��������φ׮m|g��\u0016�r\u00196����e\n",
      "\u0007��\u001c",
      "M\u00113@nȪ4D[0Y$DS���$e\u0001�\u001c",
      "K>*�%\u0013�°ە�\"\u0002�d~\u001d",
      "���ъl�\\�J^я#\u0012��G�\u0007�\u001f�r�ț\u0007��ov��t�9�ɐ��h�������C�� �r��&+ΏR�?�I�\u0001o��Y6���\u0016�Ǳ��\u001b\u001b\f",
      "1u�y�Z�l\u001d",
      "�����W���Ԯ\u0006�\u0007�+��\f",
      "q�����\u001d",
      "b\u0005]�Vw�-�O.\"{��\u000e�H�\u0019\n",
      "����VQ.:-�*3��/\n",
      "�\u00170\u0010g�\u0012a�\u0017\u0011�\u000er��ꅬV�\u0015�������\u000f8c�������L�ʼ\u00135��{k�����\u000b",
      "�\u001f��˫\u0006\n",
      "*\u001a��>��L�}m�_�3�?^.G`g���5%JWW\u0003� ?\u001f����UD���\u0002\t�\u001d",
      "j���Nhj*\u0007Xe�r�\u0010\u001f����(� ֲ�\u001c",
      "S�(%74�h�5��P%�s�\f",
      "�2#y����Nyk��W|���\u0010�~~d�e\u00069\u0010@r�AT\u001a�\u0001�42�\u0017!\u0012*�\u0000�t,C�a�T1�\u0017o����\u0012;��Au�\u0018��\u0006\\\u001d",
      "�q�[�*+.�t�\t��(5�}�\u0018�XH}��W��u��\u000e��,�A\u000enh9�3�\u0019\u0012M\u001d",
      "�\u0012�8}&7x�\u00145$����d$�\u0011?���(���J\u001e",
      "CZ���K$(#�l!�\u0006��\\X�\u0001���6��B~�C\u0010��F�kRS\u0013+����@i�q��ȏLf\n",
      "�9!B�X`\f",
      "��e\u0001v\u0015\u000f�SZLM�Ĩ��\u0000�e74�Z4+��3�f\u001f����-J�@��2�Y.]h���ɬ��\f",
      "��\n",
      "��\u001a�_�\u0013��s��I\u0011\u0015Zg��\u0015���w�]@�\u001d",
      "��ndt\u0000�.9\u001e",
      "�!�3�q��D�-�?�<&�1�86P�yM�Q�2���ƴ,\u00017.L,���/��:���� :������~�\u001c",
      "q���Wt���bS�T\n",
      "u��f�\u0001��\u0003J��Y�=S+�M�N\u0019�|c.~�>\u001e",
      "�Mpd�0�L<\"\u001c",
      "K\"u�e\u0013\u0012�$���\u001fko���EɀC�8�j�r~�\u001c",
      "�g3O��\u0017ēz�v���\u000e�!��\u0012b�4@�\n",
      "��\u0002���f$���\u001a�3j*|�85,�\"���H\\Y��E]�wʫ�k�\u001d",
      "\u001f �qƴ��~8\u000b",
      "Z@\u001c",
      "\n",
      "�BGPU�րȫ�\u001fS�\u001c",
      "�4J��'[Q�\u0015��b�^�)\u001a]�\u0010\u0005��H\f",
      "�&�,��8&'���児�ʃ�-\f",
      "�J?\u001f\u001fJ���A\u0019O\u001d",
      "Lu�J1Ӿ\\��!/\u0014Z^�/LvŻ�_\u0015��6�2�\u0004�\u001e",
      "���\\7���f�w����4\u0012F�Z��\u0010P5>Y��\u0007c�1@\u0003]�%\u0019`�̶Ml���9e�\u0011��h�)\u0010Ϩ�?�\u001e",
      "\u0013�o��wb�*d�G�Mޝ�<�vA�3\u0011�5�4P�/,�\"�=~����j\u0012�<���?����t���j�Svb\u0013\u0019/��S�x��tO�ø\u0002��<+a\u0014MJ�Dl8���b�A�1�?�b�{7$Ɩ\u001a�IӲ9�[�|���\u0004���ƾ\u0017�S2\u0016�%#JH��&�w�}@Yɖ�p�A����cI=�m8\u000e��\u001e",
      "�r\u0003�m4����=��/=j�Qo#����+M�06Y�����\u0013ay�������\n"
     ]
    }
   ],
   "source": [
    "!head HIPPLAT_NEF95054_S2_R1.fastq.gz"
   ]
  },
  {
   "cell_type": "markdown",
   "metadata": {},
   "source": [
    "#### Need to unzip this? "
   ]
  },
  {
   "cell_type": "code",
   "execution_count": 8,
   "metadata": {},
   "outputs": [
    {
     "name": "stdout",
     "output_type": "stream",
     "text": [
      "gunzip: can't stat: HIPPLAT_NEF95054_S2_R1.fastq.gz (HIPPLAT_NEF95054_S2_R1.fastq.gz.gz): No such file or directory\n"
     ]
    }
   ],
   "source": [
    "!gunzip -k HIPPLAT_NEF95054_S2_R1.fastq.gz"
   ]
  },
  {
   "cell_type": "code",
   "execution_count": 21,
   "metadata": {},
   "outputs": [
    {
     "name": "stdout",
     "output_type": "stream",
     "text": [
      "0120-blast-quiz.ipynb           \u001b[34manalyses\u001b[m\u001b[m\n",
      "\u001b[31mHIPPLAT_NEF95054_S2_R1.fastq\u001b[m\u001b[m    \u001b[34mcode\u001b[m\u001b[m\n",
      "\u001b[31mHIPPLAT_NEF95054_S2_R1.fastq.gz\u001b[m\u001b[m \u001b[34mdata\u001b[m\u001b[m\n",
      "\u001b[31mHIPPLAT_NEF95054_S2_R2.fastq.gz\u001b[m\u001b[m data_help.ipynb\n",
      "README.md\n"
     ]
    }
   ],
   "source": [
    "!ls"
   ]
  },
  {
   "cell_type": "code",
   "execution_count": 22,
   "metadata": {},
   "outputs": [
    {
     "name": "stdout",
     "output_type": "stream",
     "text": [
      "@NB551680:44:HKFKYBGXC:1:11101:23817:1037 1:N:0:TGGTATGA\n",
      "CTGAANGAAGAGATGCGTGAGAGGGAAGCCCGGCTTAATCAACATCAGGAAACTATCAAACAACCAGAAGTTGTGGCTGAGATGACAGTCGAATGTAGCAGTGCACAGCAAACCAAGAGCGTGATGGAAAACCAAACGCAAAACCACTCTCCCCA\n",
      "+\n",
      "AAAAA#EEEEEEEEEEEEEEEEEEEEEEEEEEEEEEEEEEEEEEEEEEEEEEEEEEEEEEEEEEEEEEEEEEAEEAEAEEEEEEEEEEEEEEE<EEEEEEEEEEEE<EEEEEEEEEE/EEEEEEEEEAE<<EEE</EEE<EAAEEEEEEEEEAE/\n",
      "@NB551680:44:HKFKYBGXC:1:11101:12424:1038 1:N:0:TGGTATGA\n",
      "CTTCTNTTTTCCGGGCAGGCAGAAGTTCTCCATGCTGCTTGCGAAGATCTGCCACCTTCTTATCTAGAAGATGCAGACGCTTTGCACTTTCCTTACTCTCGTCCTTCATCAGCTCGTAGTTGTCTCGCAGCTTGATTTCAAAGACGTCATCCAGG\n",
      "+\n",
      "AAAAA#EEEEEEEEEEEEEEEEEEEEEEEEEEEEEEEEEEEEEEEEEEEEEEEEEEEEEEEEEEEEEEEE/EEEEEAEEEEEEEEEEEEEEEEEEEEEEEEEEEEEEEEEEAAEEEEEEEEEEAEEAEEEEEEEEEEEEEEEEEEEEEEEEEEEA\n",
      "@NB551680:44:HKFKYBGXC:1:11101:7285:1039 1:N:0:TGGTATGA\n",
      "ATCATNCGCAGCAGCAGCAGAAGCCACCGGGGCAGCCCACCTGCCCCGCCGCCGCCGCCGCCGCCGCCCCCCGCGGCCCCGCGGGGCGGGGCCCCCGCCCGGGCGCCGGCCCCCCCCCGCCCCGGGGCCCCCCGGGTGGGGAGGGGGGGCGGTTT\n"
     ]
    }
   ],
   "source": [
    "!head HIPPLAT_NEF95054_S2_R1.fastq"
   ]
  },
  {
   "cell_type": "markdown",
   "metadata": {},
   "source": [
    "#### I think that worked? "
   ]
  },
  {
   "cell_type": "markdown",
   "metadata": {},
   "source": [
    "### I have the forward file unzipped. Now I need to unzip the reverse file and take a look at it. "
   ]
  },
  {
   "cell_type": "code",
   "execution_count": 23,
   "metadata": {},
   "outputs": [],
   "source": [
    "!gunzip -k HIPPLAT_NEF95054_S2_R2.fastq.gz"
   ]
  },
  {
   "cell_type": "code",
   "execution_count": 24,
   "metadata": {},
   "outputs": [
    {
     "name": "stdout",
     "output_type": "stream",
     "text": [
      "@NB551680:44:HKFKYBGXC:1:11101:23817:1037 2:N:0:TGGTATGA\n",
      "CTCTTTCTTCATGTACTCTATGTCCTGTTCATGCTCCTTCCNCNGNNNNNNNNNNNNNNNNNNNNNNNNNNNNNNNNCCTTGTGGATTTTCTCCTTCTCGTTCGACACCCGACTTAGTTTGCTCTTGAGCGACTCCAGGGAATCGCCGTCCTCTT\n",
      "+\n",
      "AAAAAEEEEEEEEEEEEEEEEEEEEEEEEEEEEEEEEEEEE#E#A################################AEAE/<EEEEEEEEEEEEEEEEEEEEEAEEEEEEAEEEEEEEEEEEEEAEAEEEEEEEAAEEAEEEEEEE/EEEEEAA\n",
      "@NB551680:44:HKFKYBGXC:1:11101:12424:1038 2:N:0:TGGTATGA\n",
      "GCTGAATGAGATGCAGCTGCACAGAGAAACTTTCCCGTTCCTCATNNNNNNNNNNNNNNNNNNNNNNNNNNNNNCNTGTCCTTCGTTGACTGTCGAGTTCCCGTACCAGTACAATTTCTCAGACACCTTTGACAAAGCCATCAGTGTGCAGAAGT\n",
      "+\n",
      "AAAAAEEEEE/EEEEEEEEEEEEEEE/EEEEEEEEEEEEEEEEEE#############################E#EEEEEEEEEAEE/EEEEEEEEEE<EEEEEEEEEEEEEEEEEEEEEEEEAEEEEEEEEEEEEEE/EEE<EEEEEEEEEE<\n",
      "@NB551680:44:HKFKYBGXC:1:11101:7285:1039 2:N:0:TGGTATGA\n",
      "ACAACAATGTGGTTCGGGTTATGTTTAACGAGCGGAGAGTCTGGCNNGNNNNNNNNNNNNNNNNNNNNNNNNNNCNCCTGGTGCGAGGAGAGGCTCAGGCCCTCGTTCGCAGCAGCAGCAGCAGCAGCAGCGGCGGCTGCAGCAGCCAGACTCAC\n"
     ]
    }
   ],
   "source": [
    "!head HIPPLAT_NEF95054_S2_R2.fastq "
   ]
  },
  {
   "cell_type": "markdown",
   "metadata": {},
   "source": [
    "### That was my first species, Hippoglossoides platessoides. Now for the second species, Microstomus pacificus. I will unzip and look at the forward and reverse files. "
   ]
  },
  {
   "cell_type": "code",
   "execution_count": 25,
   "metadata": {},
   "outputs": [
    {
     "name": "stdout",
     "output_type": "stream",
     "text": [
      "0120-blast-quiz.ipynb           \u001b[31mMICPACI_UW157426_S7_R2.fastq.gz\u001b[m\u001b[m\n",
      "\u001b[31mHIPPLAT_NEF95054_S2_R1.fastq\u001b[m\u001b[m    README.md\n",
      "\u001b[31mHIPPLAT_NEF95054_S2_R1.fastq.gz\u001b[m\u001b[m \u001b[34manalyses\u001b[m\u001b[m\n",
      "\u001b[31mHIPPLAT_NEF95054_S2_R2.fastq\u001b[m\u001b[m    \u001b[34mcode\u001b[m\u001b[m\n",
      "\u001b[31mHIPPLAT_NEF95054_S2_R2.fastq.gz\u001b[m\u001b[m \u001b[34mdata\u001b[m\u001b[m\n",
      "\u001b[31mMICPACI_UW157426_S7_R1.fastq.gz\u001b[m\u001b[m data_help.ipynb\n"
     ]
    }
   ],
   "source": [
    "!ls"
   ]
  },
  {
   "cell_type": "code",
   "execution_count": 26,
   "metadata": {},
   "outputs": [],
   "source": [
    "!gunzip -k MICPACI_UW157426_S7_R1.fastq.gz"
   ]
  },
  {
   "cell_type": "code",
   "execution_count": 27,
   "metadata": {},
   "outputs": [
    {
     "name": "stdout",
     "output_type": "stream",
     "text": [
      "@NB551680:44:HKFKYBGXC:1:11101:4816:1036 1:N:0:AACGACTA\n",
      "AGAAGNAATTTTCCATCCCTGTGAAGCTGGACGAGGCTCTGGAGGCGCTGGGGGAAGATCACCTGATCCGCAGCACACTCGGAGAACCGTTCGTTCAGTATTTCATCGCCATGAAAAAGTTTGAGATTGAGACCCAAGAACTGGACGATGAGAGG\n",
      "+\n",
      "AAAAA#EEEEEEE/E/AEEEEAAEEEEAEEAE<EEEEEEEEEEEE<AEAAEAAEEEEEEE/EEEEEEEAEEEEEEA/EEEEEEE/EEEE//AE<EEEEEEAEEEEEE<EEEEAEEEEEE<EE/E<E/E/EEA//AEE/A//EA</E/EEEA<EEE\n",
      "@NB551680:44:HKFKYBGXC:1:11101:10407:1036 1:N:0:AACGACTA\n",
      "CCAGCNTCTATTCCTCTACACAGCCACCCATCATTGGTTATATCACCAGTGCAAACCAGCATGCTGTCAGCTACCATGCGGCGCTGCCCCAGCACCTGGTGATCCCGAGTGGCCAGTCCCTCTTCATCCCGGTCAGCGGCCCCAATAATGGCATA\n",
      "+\n",
      "AAAAA#EE/EEEEEEEEEEEEEEEEEEEEEEEEEEEEEEE/EEEEEEEEEEEEEEEEEEEEEEEEEEEEEEEEEEEEEAEEAEEEEEEEA<EEEAEAEEEEAEEEAAEEEEEAEEEEE<EEEEE<EEA<AAEAEEEEEEEEEEEEEEAAEEEEE/\n",
      "@NB551680:44:HKFKYBGXC:1:11101:17225:1038 1:N:0:AACGACTA\n",
      "GACCTNTGACCTCCTCCTCCTCCTCCTCTCTGTACTCCCAGTCTGTGCTGGTTCTCCCTGGCTCCTCAGACCAGCAGCACCTGGTCTTTGAAGTGGGAGGCCGAGAGGAGCTGCTGTTACAACATGATTGCAGTGACGTGCTAAGTACTGGGTTT\n"
     ]
    }
   ],
   "source": [
    "!head MICPACI_UW157426_S7_R1.fastq"
   ]
  },
  {
   "cell_type": "code",
   "execution_count": 28,
   "metadata": {},
   "outputs": [],
   "source": [
    "!gunzip -k MICPACI_UW157426_S7_R2.fastq.gz"
   ]
  },
  {
   "cell_type": "code",
   "execution_count": 29,
   "metadata": {},
   "outputs": [
    {
     "name": "stdout",
     "output_type": "stream",
     "text": [
      "@NB551680:44:HKFKYBGXC:1:11101:4816:1036 2:N:0:AACGACTA\n",
      "GGGGGGGGGGGGGGGGGGGGGGGGGGGGGGGGGGGGGGGGGNGNNNNNNNNNNNNNNNNNNNNNNNNNNNNNNNNNNGGGGGGGGGGGGGGGGGGGGGGGGGGGGGGGGGGGGGGGGGGGGGGGGGGGGGGGGGGGGGGGGGGGGGGGGGGGGGG\n",
      "+\n",
      "AAAAAEEEEEEEEEEEEEEEEEE6EA/EEAAEEAEEAEEEE#E##################################EEEEEEEAEEAEEAEEEE/EEEEEEEEEEE//EAEA/A/AEEEEEEAAEEEEAE/AEAEEAEE<EAEEAE/AE<EEE6\n",
      "@NB551680:44:HKFKYBGXC:1:11101:10407:1036 2:N:0:AACGACTA\n",
      "GGGGGGGGGGGGGGGGGGGGGGGGGGGGGGGGGGGGGGGGGNGNNNNNNNNNNNNNNNNNNNNNNNNNNNNNNNNNNGGGGGGGGGGGGGGGGGGGGGGGGGGGGGGGGGGGGGGGGGGGGGGGGGGGGGGGGGGGGGGGGGGGGGGGGGGGGGG\n",
      "+\n",
      "AAAAAEEEEEAEAEEEEEEEEEAEEEEEEEEEEAEEAEEEA#A##################################EEEEEEEEEEEEEEEEEEEEEEEEEEEEAEEEEEEEEEEEEEAEEEEE//EEEEEEEEEEEAEEEEAAEEE<E/EEEA\n",
      "@NB551680:44:HKFKYBGXC:1:11101:17225:1038 2:N:0:AACGACTA\n",
      "CTGAGTTACAGGTGTTTGAAAAAGAAAAAGAGAAGCATGGAACATNNNNNNNNNNNNNNNNNNNNNNNNNNNNNNNGGAAGAAGAAGAAGCAGGGAGGTAGAAAGAGGAGGAGGCCGTGTTTCACTTTAAAACCCAGTACTTAGCACGTCACTGC\n"
     ]
    }
   ],
   "source": [
    "!head MICPACI_UW157426_S7_R2.fastq"
   ]
  },
  {
   "cell_type": "code",
   "execution_count": 32,
   "metadata": {},
   "outputs": [
    {
     "name": "stdout",
     "output_type": "stream",
     "text": [
      "total 58104168\n",
      "-rw-r--r--  1 laurelnave-powers  staff       10471 Jan 28 11:10 0120-blast-quiz.ipynb\n",
      "-rw-r--r--  1 laurelnave-powers  staff       17268 Jan 29 09:26 0129_first_glance.ipynb\n",
      "-rwxrwxrwx  1 laurelnave-powers  staff  5759108511 Nov 18  2019 \u001b[31mHIPPLAT_NEF95054_S2_R1.fastq\u001b[m\u001b[m\n",
      "-rwxrwxrwx@ 1 laurelnave-powers  staff  1461617878 Nov 18  2019 \u001b[31mHIPPLAT_NEF95054_S2_R1.fastq.gz\u001b[m\u001b[m\n",
      "-rwxrwxrwx  1 laurelnave-powers  staff  5759108511 Nov 18  2019 \u001b[31mHIPPLAT_NEF95054_S2_R2.fastq\u001b[m\u001b[m\n",
      "-rwxrwxrwx  1 laurelnave-powers  staff  1402766774 Nov 18  2019 \u001b[31mHIPPLAT_NEF95054_S2_R2.fastq.gz\u001b[m\u001b[m\n",
      "-rwxrwxrwx  1 laurelnave-powers  staff  6121444987 Nov 18  2019 \u001b[31mMICPACI_UW157426_S7_R1.fastq\u001b[m\u001b[m\n",
      "-rwxrwxrwx  1 laurelnave-powers  staff  1561115033 Nov 18  2019 \u001b[31mMICPACI_UW157426_S7_R1.fastq.gz\u001b[m\u001b[m\n",
      "-rwxrwxrwx  1 laurelnave-powers  staff  6121444987 Nov 18  2019 \u001b[31mMICPACI_UW157426_S7_R2.fastq\u001b[m\u001b[m\n",
      "-rwxrwxrwx  1 laurelnave-powers  staff  1498152244 Nov 18  2019 \u001b[31mMICPACI_UW157426_S7_R2.fastq.gz\u001b[m\u001b[m\n",
      "-rw-r--r--  1 laurelnave-powers  staff          14 Jan 28 11:10 README.md\n",
      "drwxr-xr-x@ 2 laurelnave-powers  staff          64 Jan 28 12:01 \u001b[34manalyses\u001b[m\u001b[m\n",
      "drwxr-xr-x@ 2 laurelnave-powers  staff          64 Jan 28 12:01 \u001b[34mcode\u001b[m\u001b[m\n",
      "drwxr-xr-x@ 4 laurelnave-powers  staff         128 Jan 29 09:02 \u001b[34mdata\u001b[m\u001b[m\n"
     ]
    }
   ],
   "source": [
    "!ls -l"
   ]
  },
  {
   "cell_type": "markdown",
   "metadata": {},
   "source": [
    "### Now I will look at the overall size of each file. \n",
    "#### I am not sure using wc is the best way to do this?"
   ]
  },
  {
   "cell_type": "code",
   "execution_count": 33,
   "metadata": {},
   "outputs": [
    {
     "name": "stdout",
     "output_type": "stream",
     "text": [
      " 62060412 HIPPLAT_NEF95054_S2_R1.fastq\n"
     ]
    }
   ],
   "source": [
    "!wc -l HIPPLAT_NEF95054_S2_R1.fastq"
   ]
  },
  {
   "cell_type": "code",
   "execution_count": 34,
   "metadata": {},
   "outputs": [
    {
     "name": "stdout",
     "output_type": "stream",
     "text": [
      " 62060412 HIPPLAT_NEF95054_S2_R2.fastq\n"
     ]
    }
   ],
   "source": [
    "!wc -l HIPPLAT_NEF95054_S2_R2.fastq"
   ]
  },
  {
   "cell_type": "code",
   "execution_count": 35,
   "metadata": {},
   "outputs": [
    {
     "name": "stdout",
     "output_type": "stream",
     "text": [
      " 65965044 MICPACI_UW157426_S7_R1.fastq\n"
     ]
    }
   ],
   "source": [
    "!wc -l MICPACI_UW157426_S7_R1.fastq"
   ]
  },
  {
   "cell_type": "code",
   "execution_count": 36,
   "metadata": {},
   "outputs": [
    {
     "name": "stdout",
     "output_type": "stream",
     "text": [
      " 65965044 MICPACI_UW157426_S7_R2.fastq\n"
     ]
    }
   ],
   "source": [
    "!wc -l MICPACI_UW157426_S7_R2.fastq"
   ]
  }
 ],
 "metadata": {
  "kernelspec": {
   "display_name": "Python 3",
   "language": "python",
   "name": "python3"
  },
  "language_info": {
   "codemirror_mode": {
    "name": "ipython",
    "version": 3
   },
   "file_extension": ".py",
   "mimetype": "text/x-python",
   "name": "python",
   "nbconvert_exporter": "python",
   "pygments_lexer": "ipython3",
   "version": "3.8.5"
  }
 },
 "nbformat": 4,
 "nbformat_minor": 4
}
