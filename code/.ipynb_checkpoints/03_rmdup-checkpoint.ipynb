{
 "cells": [
  {
   "cell_type": "markdown",
   "metadata": {},
   "source": [
    "# Removing duplicate reads from PCR"
   ]
  },
  {
   "cell_type": "markdown",
   "metadata": {},
   "source": [
    "#### The script to be used is `rmdup.pl`, located with all the modules and packages in `/Users/laurelnave-powers/opt/miniconda3/lib/5.32.0/darwin-thread-multi-2level`. "
   ]
  },
  {
   "cell_type": "markdown",
   "metadata": {},
   "source": [
    "### First I will navigate there and then I will call the help flag to see what I need to install to make it work. "
   ]
  },
  {
   "cell_type": "code",
   "execution_count": 1,
   "metadata": {},
   "outputs": [
    {
     "name": "stdout",
     "output_type": "stream",
     "text": [
      "/Users/laurelnave-powers/Desktop/GitHub/Laurel-genes/code\n"
     ]
    }
   ],
   "source": [
    "!pwd"
   ]
  },
  {
   "cell_type": "code",
   "execution_count": 2,
   "metadata": {},
   "outputs": [
    {
     "name": "stdout",
     "output_type": "stream",
     "text": [
      "/Users/laurelnave-powers/opt/miniconda3/lib/5.32.0/darwin-thread-multi-2level\n"
     ]
    }
   ],
   "source": [
    "cd /Users/laurelnave-powers/opt/miniconda3/lib/5.32.0/darwin-thread-multi-2level"
   ]
  },
  {
   "cell_type": "code",
   "execution_count": 3,
   "metadata": {},
   "outputs": [
    {
     "name": "stdout",
     "output_type": "stream",
     "text": [
      "\n",
      "Script name: rmdup.pl\n",
      "\n",
      "This is a script to remove PCR duplicates by fastx_uniques under usearch\n",
      "\n",
      "Dependencies:\n",
      "(1) USEARCH v10.0.240 or higher\n",
      "(2) Perl Module:\n",
      "\tParallel::ForkManager\n",
      "\n",
      "Example usage:\n",
      "\n",
      "\tperl rmdup.pl --trimmed trimmed --rmdup rmdup --samplelist samplelist.txt\n",
      "\n",
      "Input files:\n",
      "(1) trimmed\n",
      "(2) samplelist.txt\n",
      "\n",
      "Output files:\n",
      "(1) rmdup\n",
      "\n",
      "Options:\n",
      "--trimmed\n",
      "  Directory containing reads without adaptor and low quality reads\n",
      "--samplelist\n",
      "  A list of sample name. Only samples in the list will be assembled\n",
      "--rmdup\n",
      "  Directory containing reads without PCR duplication\n",
      "--readcount\n",
      "  Tab delimited file summarizing number of reads before and after removing PCR duplicates, named in 'rmdup_reads_bases_count.txt' in default\n",
      "--cpu\n",
      "  Limit the number of CPUs, 1 in default.\n",
      "--help , -h\n",
      "  Show this help message and exit\n",
      "\n",
      "Author: Hao Yuan                                                                     \n",
      "        Shanghai Ocean University                                               \n",
      "        Shanghai, China, 201306                                                               \n",
      "                                                                                         \n",
      "Created by: Nov 20, 2018                                                              \n",
      "                                                                                         \n",
      "Last modified by: \n"
     ]
    }
   ],
   "source": [
    "!perl rmdup.pl -h"
   ]
  },
  {
   "cell_type": "markdown",
   "metadata": {},
   "source": [
    "### This output is an indication that the script was found and is ready to run without further module installations. "
   ]
  },
  {
   "cell_type": "markdown",
   "metadata": {},
   "source": [
    "### It also tells me what the input and output of the script will be. For input I need my trimmed files (output from step 2) and a samplelist (list of sample names, one per line). The output will be the files with duplicates removed. At the end of the command, I have redirected the standard error to a log file. This will make it so the notebook doesn't become unusable with too much output. "
   ]
  },
  {
   "cell_type": "code",
   "execution_count": 4,
   "metadata": {},
   "outputs": [
    {
     "name": "stdout",
     "output_type": "stream",
     "text": [
      "Start concatenating reads in serial\n",
      "Start concatenating reads of HIPPLAT_NEF95054_S2\n",
      "Reads of HIPPLAT_NEF95054_S2 has been concatenated, sorted and divided into 73 part\n",
      "Start concatenating reads of \n",
      "All reads have been concatenated\n",
      "Start removing PCR duplicates in serial\n",
      "Start removing PCR duplicates in HIPPLAT_NEF95054_S2.CCC.fq\n",
      "HIPPLAT_NEF95054_S2.CCC.fq has been deduplicated\n",
      "Start removing PCR duplicates in HIPPLAT_NEF95054_S2.AAA.fq\n",
      "HIPPLAT_NEF95054_S2.AAA.fq has been deduplicated\n",
      "Start removing PCR duplicates in HIPPLAT_NEF95054_S2.CAG.fq\n",
      "HIPPLAT_NEF95054_S2.CAG.fq has been deduplicated\n",
      "Start removing PCR duplicates in HIPPLAT_NEF95054_S2.ATTT.fq\n",
      "HIPPLAT_NEF95054_S2.ATTT.fq has been deduplicated\n",
      "Start removing PCR duplicates in HIPPLAT_NEF95054_S2.ATCT.fq\n",
      "HIPPLAT_NEF95054_S2.ATCT.fq has been deduplicated\n",
      "Start removing PCR duplicates in HIPPLAT_NEF95054_S2.CTCT.fq\n",
      "HIPPLAT_NEF95054_S2.CTCT.fq has been deduplicated\n",
      "Start removing PCR duplicates in HIPPLAT_NEF95054_S2.CTTT.fq\n",
      "HIPPLAT_NEF95054_S2.CTTT.fq has been deduplicated\n",
      "Start removing PCR duplicates in HIPPLAT_NEF95054_S2.TTA.fq\n",
      "HIPPLAT_NEF95054_S2.TTA.fq has been deduplicated\n",
      "Start removing PCR duplicates in HIPPLAT_NEF95054_S2.TCA.fq\n",
      "HIPPLAT_NEF95054_S2.TCA.fq has been deduplicated\n",
      "Start removing PCR duplicates in HIPPLAT_NEF95054_S2.CCG.fq\n",
      "HIPPLAT_NEF95054_S2.CCG.fq has been deduplicated\n",
      "Start removing PCR duplicates in HIPPLAT_NEF95054_S2.ACA.fq\n",
      "HIPPLAT_NEF95054_S2.ACA.fq has been deduplicated\n",
      "Start removing PCR duplicates in HIPPLAT_NEF95054_S2.ATA.fq\n",
      "HIPPLAT_NEF95054_S2.ATA.fq has been deduplicated\n",
      "Start removing PCR duplicates in HIPPLAT_NEF95054_S2.CAC.fq\n",
      "HIPPLAT_NEF95054_S2.CAC.fq has been deduplicated\n",
      "Start removing PCR duplicates in HIPPLAT_NEF95054_S2.AGA.fq\n",
      "HIPPLAT_NEF95054_S2.AGA.fq has been deduplicated\n",
      "Start removing PCR duplicates in HIPPLAT_NEF95054_S2.TGA.fq\n",
      "HIPPLAT_NEF95054_S2.TGA.fq has been deduplicated\n",
      "Start removing PCR duplicates in HIPPLAT_NEF95054_S2.CTGT.fq\n",
      "HIPPLAT_NEF95054_S2.CTGT.fq has been deduplicated\n",
      "Start removing PCR duplicates in HIPPLAT_NEF95054_S2.TA.fq\n",
      "HIPPLAT_NEF95054_S2.TA.fq has been deduplicated\n",
      "Start removing PCR duplicates in HIPPLAT_NEF95054_S2.CTGC.fq\n",
      "HIPPLAT_NEF95054_S2.CTGC.fq has been deduplicated\n",
      "Start removing PCR duplicates in HIPPLAT_NEF95054_S2.GTA.fq\n",
      "HIPPLAT_NEF95054_S2.GTA.fq has been deduplicated\n",
      "Start removing PCR duplicates in HIPPLAT_NEF95054_S2.CTGG.fq\n",
      "HIPPLAT_NEF95054_S2.CTGG.fq has been deduplicated\n",
      "Start removing PCR duplicates in HIPPLAT_NEF95054_S2.GAA.fq\n",
      "HIPPLAT_NEF95054_S2.GAA.fq has been deduplicated\n",
      "Start removing PCR duplicates in HIPPLAT_NEF95054_S2.TTTA.fq\n",
      "HIPPLAT_NEF95054_S2.TTTA.fq has been deduplicated\n",
      "Start removing PCR duplicates in HIPPLAT_NEF95054_S2.ATCC.fq\n",
      "HIPPLAT_NEF95054_S2.ATCC.fq has been deduplicated\n",
      "Start removing PCR duplicates in HIPPLAT_NEF95054_S2.ATTC.fq\n",
      "HIPPLAT_NEF95054_S2.ATTC.fq has been deduplicated\n",
      "Start removing PCR duplicates in HIPPLAT_NEF95054_S2.CTCG.fq\n",
      "HIPPLAT_NEF95054_S2.CTCG.fq has been deduplicated\n",
      "Start removing PCR duplicates in HIPPLAT_NEF95054_S2.CTTG.fq\n",
      "HIPPLAT_NEF95054_S2.CTTG.fq has been deduplicated\n",
      "Start removing PCR duplicates in HIPPLAT_NEF95054_S2.CCT.fq\n",
      "HIPPLAT_NEF95054_S2.CCT.fq has been deduplicated\n",
      "Start removing PCR duplicates in HIPPLAT_NEF95054_S2.CAT.fq\n",
      "HIPPLAT_NEF95054_S2.CAT.fq has been deduplicated\n",
      "Start removing PCR duplicates in HIPPLAT_NEF95054_S2.GGA.fq\n",
      "HIPPLAT_NEF95054_S2.GGA.fq has been deduplicated\n",
      "Start removing PCR duplicates in HIPPLAT_NEF95054_S2.ATTG.fq\n",
      "HIPPLAT_NEF95054_S2.ATTG.fq has been deduplicated\n",
      "Start removing PCR duplicates in HIPPLAT_NEF95054_S2.ATCG.fq\n",
      "HIPPLAT_NEF95054_S2.ATCG.fq has been deduplicated\n",
      "Start removing PCR duplicates in HIPPLAT_NEF95054_S2.CTTC.fq\n",
      "HIPPLAT_NEF95054_S2.CTTC.fq has been deduplicated\n",
      "Start removing PCR duplicates in HIPPLAT_NEF95054_S2.CTCC.fq\n",
      "HIPPLAT_NEF95054_S2.CTCC.fq has been deduplicated\n",
      "Start removing PCR duplicates in HIPPLAT_NEF95054_S2.GAC.fq\n",
      "HIPPLAT_NEF95054_S2.GAC.fq has been deduplicated\n",
      "Start removing PCR duplicates in HIPPLAT_NEF95054_S2.TTTC.fq\n",
      "HIPPLAT_NEF95054_S2.TTTC.fq has been deduplicated\n",
      "Start removing PCR duplicates in HIPPLAT_NEF95054_S2.GTG.fq\n",
      "HIPPLAT_NEF95054_S2.GTG.fq has been deduplicated\n",
      "Start removing PCR duplicates in HIPPLAT_NEF95054_S2.TGT.fq\n",
      "HIPPLAT_NEF95054_S2.TGT.fq has been deduplicated\n",
      "Start removing PCR duplicates in HIPPLAT_NEF95054_S2.TTTG.fq\n",
      "HIPPLAT_NEF95054_S2.TTTG.fq has been deduplicated\n",
      "Start removing PCR duplicates in HIPPLAT_NEF95054_S2.GAG.fq\n",
      "HIPPLAT_NEF95054_S2.GAG.fq has been deduplicated\n",
      "Start removing PCR duplicates in HIPPLAT_NEF95054_S2.CTGA.fq\n",
      "HIPPLAT_NEF95054_S2.CTGA.fq has been deduplicated\n",
      "Start removing PCR duplicates in HIPPLAT_NEF95054_S2.GTC.fq\n",
      "HIPPLAT_NEF95054_S2.GTC.fq has been deduplicated\n",
      "Start removing PCR duplicates in HIPPLAT_NEF95054_S2.AGT.fq\n",
      "HIPPLAT_NEF95054_S2.AGT.fq has been deduplicated\n",
      "Start removing PCR duplicates in HIPPLAT_NEF95054_S2.ACT.fq\n",
      "HIPPLAT_NEF95054_S2.ACT.fq has been deduplicated\n",
      "Start removing PCR duplicates in HIPPLAT_NEF95054_S2.GGC.fq\n",
      "HIPPLAT_NEF95054_S2.GGC.fq has been deduplicated\n",
      "Start removing PCR duplicates in HIPPLAT_NEF95054_S2.CTCA.fq\n",
      "HIPPLAT_NEF95054_S2.CTCA.fq has been deduplicated\n",
      "Start removing PCR duplicates in HIPPLAT_NEF95054_S2.CTTA.fq\n",
      "HIPPLAT_NEF95054_S2.CTTA.fq has been deduplicated\n",
      "Start removing PCR duplicates in HIPPLAT_NEF95054_S2.TCT.fq\n",
      "HIPPLAT_NEF95054_S2.TCT.fq has been deduplicated\n",
      "Start removing PCR duplicates in HIPPLAT_NEF95054_S2.ATTA.fq\n",
      "HIPPLAT_NEF95054_S2.ATTA.fq has been deduplicated\n",
      "Start removing PCR duplicates in HIPPLAT_NEF95054_S2.ATCA.fq\n",
      "HIPPLAT_NEF95054_S2.ATCA.fq has been deduplicated\n",
      "Start removing PCR duplicates in HIPPLAT_NEF95054_S2.GGG.fq\n",
      "HIPPLAT_NEF95054_S2.GGG.fq has been deduplicated\n",
      "Start removing PCR duplicates in HIPPLAT_NEF95054_S2.AAT.fq\n",
      "HIPPLAT_NEF95054_S2.AAT.fq has been deduplicated\n",
      "Start removing PCR duplicates in HIPPLAT_NEF95054_S2.AAG.fq\n",
      "HIPPLAT_NEF95054_S2.AAG.fq has been deduplicated\n",
      "Start removing PCR duplicates in HIPPLAT_NEF95054_S2.TCC.fq\n",
      "HIPPLAT_NEF95054_S2.TCC.fq has been deduplicated\n",
      "Start removing PCR duplicates in HIPPLAT_NEF95054_S2.TTC.fq\n",
      "HIPPLAT_NEF95054_S2.TTC.fq has been deduplicated\n",
      "Start removing PCR duplicates in HIPPLAT_NEF95054_S2.CAA.fq\n",
      "HIPPLAT_NEF95054_S2.CAA.fq has been deduplicated\n",
      "Start removing PCR duplicates in HIPPLAT_NEF95054_S2.ACC.fq\n",
      "HIPPLAT_NEF95054_S2.ACC.fq has been deduplicated\n",
      "Start removing PCR duplicates in HIPPLAT_NEF95054_S2.GGT.fq\n",
      "HIPPLAT_NEF95054_S2.GGT.fq has been deduplicated\n",
      "Start removing PCR duplicates in HIPPLAT_NEF95054_S2.GC.fq\n",
      "HIPPLAT_NEF95054_S2.GC.fq has been deduplicated\n",
      "Start removing PCR duplicates in HIPPLAT_NEF95054_S2.AAC.fq\n",
      "HIPPLAT_NEF95054_S2.AAC.fq has been deduplicated\n",
      "Start removing PCR duplicates in HIPPLAT_NEF95054_S2.TTG.fq\n",
      "HIPPLAT_NEF95054_S2.TTG.fq has been deduplicated\n",
      "Start removing PCR duplicates in HIPPLAT_NEF95054_S2.CTA.fq\n",
      "HIPPLAT_NEF95054_S2.CTA.fq has been deduplicated\n",
      "Start removing PCR duplicates in HIPPLAT_NEF95054_S2.TCG.fq\n",
      "HIPPLAT_NEF95054_S2.TCG.fq has been deduplicated\n",
      "Start removing PCR duplicates in HIPPLAT_NEF95054_S2.CCA.fq\n",
      "HIPPLAT_NEF95054_S2.CCA.fq has been deduplicated\n",
      "Start removing PCR duplicates in HIPPLAT_NEF95054_S2.ACG.fq\n",
      "HIPPLAT_NEF95054_S2.ACG.fq has been deduplicated\n",
      "Start removing PCR duplicates in HIPPLAT_NEF95054_S2.ATG.fq\n",
      "HIPPLAT_NEF95054_S2.ATG.fq has been deduplicated\n",
      "Start removing PCR duplicates in HIPPLAT_NEF95054_S2.AGG.fq\n",
      "HIPPLAT_NEF95054_S2.AGG.fq has been deduplicated\n",
      "Start removing PCR duplicates in HIPPLAT_NEF95054_S2.TGG.fq\n",
      "HIPPLAT_NEF95054_S2.TGG.fq has been deduplicated\n",
      "Start removing PCR duplicates in HIPPLAT_NEF95054_S2.TTTT.fq\n",
      "HIPPLAT_NEF95054_S2.TTTT.fq has been deduplicated\n",
      "Start removing PCR duplicates in HIPPLAT_NEF95054_S2.GAT.fq\n",
      "HIPPLAT_NEF95054_S2.GAT.fq has been deduplicated\n",
      "Start removing PCR duplicates in HIPPLAT_NEF95054_S2.GTT.fq\n",
      "HIPPLAT_NEF95054_S2.GTT.fq has been deduplicated\n",
      "Start removing PCR duplicates in HIPPLAT_NEF95054_S2.AGC.fq\n",
      "HIPPLAT_NEF95054_S2.AGC.fq has been deduplicated\n",
      "Start removing PCR duplicates in HIPPLAT_NEF95054_S2.TGC.fq\n",
      "HIPPLAT_NEF95054_S2.TGC.fq has been deduplicated\n",
      "Start removing PCR duplicates in HIPPLAT_NEF95054_S2.CG.fq\n",
      "HIPPLAT_NEF95054_S2.CG.fq has been deduplicated\n",
      "All reads have been deduplicated\n",
      "Start writing out deduplicated reads in serial\n",
      "Start writing out deduplicated reads of HIPPLAT_NEF95054_S2\n",
      "Deduplicated reads of HIPPLAT_NEF95054_S2 has been written to /Users/laurelnave-powers/Desktop/GitHub/Laurel-genes/analyses/rmdup/HIPPLAT_NEF95054_S2.*.rmdup.fq\n",
      "Start writing out deduplicated reads of \n",
      "Deduplicated reads of  has been written to /Users/laurelnave-powers/Desktop/GitHub/Laurel-genes/analyses/rmdup/.*.rmdup.fq\n",
      "All Deduplicated reads has been written to /Users/laurelnave-powers/Desktop/GitHub/Laurel-genes/analyses/rmdup/ \n"
     ]
    }
   ],
   "source": [
    "!perl rmdup.pl --trimmed ~/Desktop/GitHub/Laurel-genes/analyses/trimmed --rmdup ~/Desktop/GitHub/Laurel-genes/analyses/rmdup --samplelist ~/Desktop/GitHub/Laurel-genes/analyses/samplelist.txt 2> ~/Desktop/GitHub/Laurel-genes/analyses/error.stderr"
   ]
  },
  {
   "cell_type": "code",
   "execution_count": 5,
   "metadata": {},
   "outputs": [],
   "source": [
    "! ls -l /Users/laurelnave-powers/Desktop/GitHub/Laurel-genes/analyses/rmdup "
   ]
  },
  {
   "cell_type": "code",
   "execution_count": 6,
   "metadata": {},
   "outputs": [
    {
     "name": "stdout",
     "output_type": "stream",
     "text": [
      "/Users/laurelnave-powers/Desktop/GitHub/Laurel-genes\n"
     ]
    }
   ],
   "source": [
    "cd /Users/laurelnave-powers/Desktop/GitHub/Laurel-genes"
   ]
  },
  {
   "cell_type": "code",
   "execution_count": 7,
   "metadata": {},
   "outputs": [],
   "source": [
    "! find . -type f -name \"*.rmdup.fq\""
   ]
  },
  {
   "cell_type": "code",
   "execution_count": 8,
   "metadata": {},
   "outputs": [
    {
     "name": "stdout",
     "output_type": "stream",
     "text": [
      "Can't exec \"usearch\": No such file or directory at rmdup.pl line 486.\n",
      "Can't exec \"usearch\": No such file or directory at rmdup.pl line 486.\n",
      "Can't exec \"usearch\": No such file or directory at rmdup.pl line 486.\n",
      "Can't exec \"usearch\": No such file or directory at rmdup.pl line 486.\n",
      "Can't exec \"usearch\": No such file or directory at rmdup.pl line 486.\n",
      "Can't exec \"usearch\": No such file or directory at rmdup.pl line 486.\n",
      "Use of uninitialized value in concatenation (.) or string at rmdup.pl line 264.\n",
      "Use of uninitialized value in concatenation (.) or string at rmdup.pl line 264.\n",
      "Use of uninitialized value in concatenation (.) or string at rmdup.pl line 264.\n",
      "Use of uninitialized value in concatenation (.) or string at rmdup.pl line 264.\n"
     ]
    }
   ],
   "source": [
    "! tail /Users/laurelnave-powers/Desktop/GitHub/Laurel-genes/analyses/error.stderr"
   ]
  },
  {
   "cell_type": "code",
   "execution_count": null,
   "metadata": {},
   "outputs": [],
   "source": []
  }
 ],
 "metadata": {
  "kernelspec": {
   "display_name": "Python 3",
   "language": "python",
   "name": "python3"
  },
  "language_info": {
   "codemirror_mode": {
    "name": "ipython",
    "version": 3
   },
   "file_extension": ".py",
   "mimetype": "text/x-python",
   "name": "python",
   "nbconvert_exporter": "python",
   "pygments_lexer": "ipython3",
   "version": "3.8.5"
  }
 },
 "nbformat": 4,
 "nbformat_minor": 4
}
