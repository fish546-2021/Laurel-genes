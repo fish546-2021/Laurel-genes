{
 "cells": [
  {
   "cell_type": "markdown",
   "metadata": {},
   "source": [
    "# Removing duplicate reads from PCR"
   ]
  },
  {
   "cell_type": "markdown",
   "metadata": {},
   "source": [
    "#### The script to be used is `rmdup.pl`, located with all the modules and packages in `/Users/laurelnave-powers/opt/miniconda3/lib/5.32.0/darwin-thread-multi-2level`. "
   ]
  },
  {
   "cell_type": "markdown",
   "metadata": {},
   "source": [
    "### First I will navigate there and then I will call the help flag to see what I need to install to make it work. "
   ]
  },
  {
   "cell_type": "code",
   "execution_count": 1,
   "metadata": {},
   "outputs": [
    {
     "name": "stdout",
     "output_type": "stream",
     "text": [
      "/Users/laurelnave-powers/Desktop/GitHub/Laurel-genes/code\n"
     ]
    }
   ],
   "source": [
    "!pwd"
   ]
  },
  {
   "cell_type": "code",
   "execution_count": 2,
   "metadata": {},
   "outputs": [
    {
     "name": "stdout",
     "output_type": "stream",
     "text": [
      "/Users/laurelnave-powers/opt/miniconda3/lib/5.32.0/darwin-thread-multi-2level\n"
     ]
    }
   ],
   "source": [
    "cd /Users/laurelnave-powers/opt/miniconda3/lib/5.32.0/darwin-thread-multi-2level"
   ]
  },
  {
   "cell_type": "code",
   "execution_count": 3,
   "metadata": {},
   "outputs": [
    {
     "name": "stdout",
     "output_type": "stream",
     "text": [
      "\n",
      "Script name: rmdup.pl\n",
      "\n",
      "This is a script to remove PCR duplicates by fastx_uniques under usearch\n",
      "\n",
      "Dependencies:\n",
      "(1) USEARCH v10.0.240 or higher\n",
      "(2) Perl Module:\n",
      "\tParallel::ForkManager\n",
      "\n",
      "Example usage:\n",
      "\n",
      "\tperl rmdup.pl --trimmed trimmed --rmdup rmdup --samplelist samplelist.txt\n",
      "\n",
      "Input files:\n",
      "(1) trimmed\n",
      "(2) samplelist.txt\n",
      "\n",
      "Output files:\n",
      "(1) rmdup\n",
      "\n",
      "Options:\n",
      "--trimmed\n",
      "  Directory containing reads without adaptor and low quality reads\n",
      "--samplelist\n",
      "  A list of sample name. Only samples in the list will be assembled\n",
      "--rmdup\n",
      "  Directory containing reads without PCR duplication\n",
      "--readcount\n",
      "  Tab delimited file summarizing number of reads before and after removing PCR duplicates, named in 'rmdup_reads_bases_count.txt' in default\n",
      "--cpu\n",
      "  Limit the number of CPUs, 1 in default.\n",
      "--help , -h\n",
      "  Show this help message and exit\n",
      "\n",
      "Author: Hao Yuan                                                                     \n",
      "        Shanghai Ocean University                                               \n",
      "        Shanghai, China, 201306                                                               \n",
      "                                                                                         \n",
      "Created by: Nov 20, 2018                                                              \n",
      "                                                                                         \n",
      "Last modified by: \n"
     ]
    }
   ],
   "source": [
    "!perl rmdup.pl -h"
   ]
  },
  {
   "cell_type": "markdown",
   "metadata": {},
   "source": [
    "### This output is an indication that the script was found and is ready to run without further module installations. "
   ]
  },
  {
   "cell_type": "markdown",
   "metadata": {},
   "source": [
    "### It also tells me what the input and output of the script will be. For input I need my trimmed files (output from step 2) and a samplelist (list of sample names, one per line). The output will be the files with duplicates removed. "
   ]
  },
  {
   "cell_type": "code",
   "execution_count": 4,
   "metadata": {},
   "outputs": [
    {
     "name": "stdout",
     "output_type": "stream",
     "text": [
      "Start concatenating reads in serial\n",
      "Start concatenating reads of HIPPLAT_NEF95054_S2\n",
      "Start concatenating reads of HIPPLAT_NEF95054_S2\n",
      "Reads of HIPPLAT_NEF95054_S2 has been concatenated, sorted and divided into 1 part\n",
      "Start concatenating reads of MICPACI_UW157426_S7\n",
      "Start concatenating reads of MICPACI_UW157426_S7\n",
      "Reads of MICPACI_UW157426_S7 has been concatenated, sorted and divided into 1 part\n",
      "All reads have been concatenated\n",
      "Start removing PCR duplicates in serial\n",
      "Start removing PCR duplicates in HIPPLAT_NEF95054_S2.AA.fq\n",
      "HIPPLAT_NEF95054_S2.AA.fq has been deduplicated\n",
      "Start removing PCR duplicates in MICPACI_UW157426_S7.AA.fq\n",
      "MICPACI_UW157426_S7.AA.fq has been deduplicated\n",
      "All reads have been deduplicated\n",
      "Start writing out deduplicated reads in serial\n",
      "Start writing out deduplicated reads of HIPPLAT_NEF95054_S2\n",
      "Deduplicated reads of HIPPLAT_NEF95054_S2 has been written to /Users/laurelnave-powers/Desktop/GitHub/Laurel-genes/analyses/rmdup/HIPPLAT_NEF95054_S2.*.rmdup.fq\n",
      "Start writing out deduplicated reads of HIPPLAT_NEF95054_S2\n",
      "Deduplicated reads of HIPPLAT_NEF95054_S2 has been written to /Users/laurelnave-powers/Desktop/GitHub/Laurel-genes/analyses/rmdup/HIPPLAT_NEF95054_S2.*.rmdup.fq\n",
      "Start writing out deduplicated reads of MICPACI_UW157426_S7\n",
      "Deduplicated reads of MICPACI_UW157426_S7 has been written to /Users/laurelnave-powers/Desktop/GitHub/Laurel-genes/analyses/rmdup/MICPACI_UW157426_S7.*.rmdup.fq\n",
      "Start writing out deduplicated reads of MICPACI_UW157426_S7\n",
      "Deduplicated reads of MICPACI_UW157426_S7 has been written to /Users/laurelnave-powers/Desktop/GitHub/Laurel-genes/analyses/rmdup/MICPACI_UW157426_S7.*.rmdup.fq\n",
      "All Deduplicated reads has been written to /Users/laurelnave-powers/Desktop/GitHub/Laurel-genes/analyses/rmdup/ \n"
     ]
    }
   ],
   "source": [
    "!perl rmdup.pl --trimmed ~/Desktop/GitHub/Laurel-genes/analyses/trimmed --rmdup ~/Desktop/GitHub/Laurel-genes/analyses/rmdup --samplelist ~/Desktop/GitHub/Laurel-genes/analyses/samplelist.txt 2> ~/Desktop/GitHub/Laurel-genes/analyses/error.stderr"
   ]
  },
  {
   "cell_type": "code",
   "execution_count": 5,
   "metadata": {},
   "outputs": [],
   "source": [
    "! ls -l /Users/laurelnave-powers/Desktop/GitHub/Laurel-genes/analyses/rmdup"
   ]
  },
  {
   "cell_type": "code",
   "execution_count": 6,
   "metadata": {},
   "outputs": [
    {
     "name": "stdout",
     "output_type": "stream",
     "text": [
      "/Users/laurelnave-powers/Desktop/GitHub/Laurel-genes\n"
     ]
    }
   ],
   "source": [
    "cd /Users/laurelnave-powers/Desktop/GitHub/Laurel-genes"
   ]
  },
  {
   "cell_type": "code",
   "execution_count": 7,
   "metadata": {},
   "outputs": [],
   "source": [
    "! find . -type f -name \"*.rmdup.fq\""
   ]
  },
  {
   "cell_type": "code",
   "execution_count": 7,
   "metadata": {},
   "outputs": [
    {
     "name": "stdout",
     "output_type": "stream",
     "text": [
      "Can't open perl script \"rmdup.pl\": No such file or directory\n"
     ]
    }
   ],
   "source": [
    "! tail /Users/laurelnave-powers/Desktop/GitHub/Laurel-genes/code/error.stderr"
   ]
  },
  {
   "cell_type": "code",
   "execution_count": 8,
   "metadata": {},
   "outputs": [
    {
     "name": "stdout",
     "output_type": "stream",
     "text": [
      "Can't exec \"usearch\": No such file or directory at rmdup.pl line 486.\n",
      "Can't exec \"usearch\": No such file or directory at rmdup.pl line 486.\n",
      "Use of uninitialized value in concatenation (.) or string at rmdup.pl line 264.\n",
      "Use of uninitialized value in concatenation (.) or string at rmdup.pl line 264.\n",
      "Use of uninitialized value in concatenation (.) or string at rmdup.pl line 264.\n",
      "Use of uninitialized value in concatenation (.) or string at rmdup.pl line 264.\n",
      "Use of uninitialized value in concatenation (.) or string at rmdup.pl line 264.\n",
      "Use of uninitialized value in concatenation (.) or string at rmdup.pl line 264.\n",
      "Use of uninitialized value in concatenation (.) or string at rmdup.pl line 264.\n",
      "Use of uninitialized value in concatenation (.) or string at rmdup.pl line 264.\n"
     ]
    }
   ],
   "source": [
    "! tail /Users/laurelnave-powers/Desktop/GitHub/Laurel-genes/analyses/error.stderr"
   ]
  },
  {
   "cell_type": "code",
   "execution_count": null,
   "metadata": {},
   "outputs": [],
   "source": []
  }
 ],
 "metadata": {
  "kernelspec": {
   "display_name": "Python 3",
   "language": "python",
   "name": "python3"
  },
  "language_info": {
   "codemirror_mode": {
    "name": "ipython",
    "version": 3
   },
   "file_extension": ".py",
   "mimetype": "text/x-python",
   "name": "python",
   "nbconvert_exporter": "python",
   "pygments_lexer": "ipython3",
   "version": "3.8.5"
  }
 },
 "nbformat": 4,
 "nbformat_minor": 4
}
