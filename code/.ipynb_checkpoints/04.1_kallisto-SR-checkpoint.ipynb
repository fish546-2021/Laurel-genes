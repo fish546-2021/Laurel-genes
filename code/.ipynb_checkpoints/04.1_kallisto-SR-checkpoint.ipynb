{
 "cells": [
  {
   "cell_type": "markdown",
   "metadata": {},
   "source": [
    "## Doing alignment using Kallisto"
   ]
  },
  {
   "cell_type": "code",
   "execution_count": 11,
   "metadata": {},
   "outputs": [
    {
     "name": "stdout",
     "output_type": "stream",
     "text": [
      "/Users/laurelnave-powers/Desktop/GitHub/Laurel-genes/analyses\n"
     ]
    }
   ],
   "source": [
    "cd /Users/laurelnave-powers/Desktop/GitHub/Laurel-genes/analyses"
   ]
  },
  {
   "cell_type": "code",
   "execution_count": 4,
   "metadata": {},
   "outputs": [
    {
     "name": "stdout",
     "output_type": "stream",
     "text": [
      "kallisto 0.46.1\n",
      "\n",
      "Usage: kallisto <CMD> [arguments] ..\n",
      "\n",
      "Where <CMD> can be one of:\n",
      "\n",
      "    index         Builds a kallisto index \n",
      "    quant         Runs the quantification algorithm \n",
      "    bus           Generate BUS files for single-cell data \n",
      "    pseudo        Runs the pseudoalignment step \n",
      "    merge         Merges several batch runs \n",
      "    h5dump        Converts HDF5-formatted results to plaintext\n",
      "    inspect       Inspects and gives information about an index\n",
      "    version       Prints version information\n",
      "    cite          Prints citation information\n",
      "\n",
      "Running kallisto <CMD> without arguments prints usage information for <CMD>\n",
      "\n"
     ]
    }
   ],
   "source": [
    "!/Applications/bioinfo/kallisto/kallisto"
   ]
  },
  {
   "cell_type": "markdown",
   "metadata": {},
   "source": [
    "#### First I need to build an index. The reference fasta file is downloaded from https://uswest.ensembl.org/Danio_rerio/Info/Index."
   ]
  },
  {
   "cell_type": "code",
   "execution_count": 6,
   "metadata": {},
   "outputs": [
    {
     "name": "stdout",
     "output_type": "stream",
     "text": [
      "/Users/sr320/Documents/GitHub/Laurel-genes/code\n"
     ]
    }
   ],
   "source": [
    "!pwd"
   ]
  },
  {
   "cell_type": "code",
   "execution_count": 7,
   "metadata": {},
   "outputs": [
    {
     "name": "stdout",
     "output_type": "stream",
     "text": [
      "\n",
      "[build] loading fasta file ../data/Danio_rerio.GRCz11.dna.alt.fa.gz\n",
      "[build] k-mer length: 31\n",
      "[build] warning: replaced 1870 non-ACGUT characters in the input sequence\n",
      "        with pseudorandom nucleotides\n",
      "[build] warning: replaced 19 U characters with Ts\n",
      "[build] counting k-mers ... done.\n",
      "[build] building target de Bruijn graph ...  done \n",
      "[build] creating equivalence classes ...  done\n",
      "[build] target de Bruijn graph has 2 contigs and contains 1884 k-mers \n",
      "\n"
     ]
    }
   ],
   "source": [
    "!/Applications/bioinfo/kallisto/kallisto \\\n",
    "index -i ../data/index_kallisto.idx ../data/Danio_rerio.GRCz11.dna.alt.fa.gz"
   ]
  },
  {
   "cell_type": "code",
   "execution_count": 10,
   "metadata": {},
   "outputs": [
    {
     "name": "stdout",
     "output_type": "stream",
     "text": [
      "Danio_rerio.GRCz11.dna.alt.fa.gz  index_kallisto.idx\n"
     ]
    }
   ],
   "source": [
    "!ls ../data/"
   ]
  },
  {
   "cell_type": "code",
   "execution_count": null,
   "metadata": {},
   "outputs": [],
   "source": []
  }
 ],
 "metadata": {
  "kernelspec": {
   "display_name": "Python 3",
   "language": "python",
   "name": "python3"
  },
  "language_info": {
   "codemirror_mode": {
    "name": "ipython",
    "version": 3
   },
   "file_extension": ".py",
   "mimetype": "text/x-python",
   "name": "python",
   "nbconvert_exporter": "python",
   "pygments_lexer": "ipython3",
   "version": "3.8.5"
  }
 },
 "nbformat": 4,
 "nbformat_minor": 4
}
