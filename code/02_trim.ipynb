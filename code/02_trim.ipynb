{
 "cells": [
  {
   "cell_type": "markdown",
   "metadata": {},
   "source": [
    "# Trimming adaptors and low quality bases"
   ]
  },
  {
   "cell_type": "code",
   "execution_count": 2,
   "metadata": {},
   "outputs": [
    {
     "name": "stdout",
     "output_type": "stream",
     "text": [
      "/Users/laurelnave-powers/Desktop/GitHub/Laurel-genes\n"
     ]
    }
   ],
   "source": [
    "!pwd"
   ]
  },
  {
   "cell_type": "code",
   "execution_count": 5,
   "metadata": {},
   "outputs": [
    {
     "name": "stdout",
     "output_type": "stream",
     "text": [
      "/Users/laurelnave-powers/Desktop/GitHub/Laurel-genes/data\n"
     ]
    }
   ],
   "source": [
    "cd /Users/laurelnave-powers/Desktop/GitHub/Laurel-genes/data"
   ]
  },
  {
   "cell_type": "markdown",
   "metadata": {},
   "source": [
    "### First, the data needs to be changed into .fq format. "
   ]
  },
  {
   "cell_type": "code",
   "execution_count": 11,
   "metadata": {},
   "outputs": [],
   "source": [
    "!mv \"HIPPLAT_NEF95054_S2_R1.fastq\" \"$(basename \"HIPPLAT_NEF95054_S2_R1\" .fastq).fq\""
   ]
  },
  {
   "cell_type": "code",
   "execution_count": 12,
   "metadata": {},
   "outputs": [
    {
     "name": "stdout",
     "output_type": "stream",
     "text": [
      "\u001b[31mHIPPLAT_NEF95054_S2_R1.fq\u001b[m\u001b[m    \u001b[31mMICPACI_UW157426_S7_R2.fastq\u001b[m\u001b[m\n",
      "\u001b[31mHIPPLAT_NEF95054_S2_R2.fastq\u001b[m\u001b[m \u001b[34mraw\u001b[m\u001b[m\n",
      "\u001b[31mMICPACI_UW157426_S7_R1.fastq\u001b[m\u001b[m\n"
     ]
    }
   ],
   "source": [
    "!ls"
   ]
  },
  {
   "cell_type": "code",
   "execution_count": 13,
   "metadata": {},
   "outputs": [],
   "source": [
    "!mv \"HIPPLAT_NEF95054_S2_R2.fastq\" \"$(basename \"HIPPLAT_NEF95054_S2_R2\" .fastq).fq\""
   ]
  },
  {
   "cell_type": "code",
   "execution_count": 14,
   "metadata": {},
   "outputs": [
    {
     "name": "stdout",
     "output_type": "stream",
     "text": [
      "\u001b[31mHIPPLAT_NEF95054_S2_R1.fq\u001b[m\u001b[m    \u001b[31mMICPACI_UW157426_S7_R2.fastq\u001b[m\u001b[m\n",
      "\u001b[31mHIPPLAT_NEF95054_S2_R2.fq\u001b[m\u001b[m    \u001b[34mraw\u001b[m\u001b[m\n",
      "\u001b[31mMICPACI_UW157426_S7_R1.fastq\u001b[m\u001b[m\n"
     ]
    }
   ],
   "source": [
    "!ls"
   ]
  },
  {
   "cell_type": "code",
   "execution_count": 15,
   "metadata": {},
   "outputs": [],
   "source": [
    "!mv \"MICPACI_UW157426_S7_R1.fastq\" \"$(basename \"MICPACI_UW157426_S7_R1\" .fastq).fq\""
   ]
  },
  {
   "cell_type": "code",
   "execution_count": 16,
   "metadata": {},
   "outputs": [],
   "source": [
    "!mv \"MICPACI_UW157426_S7_R2.fastq\" \"$(basename \"MICPACI_UW157426_S7_R2\" .fastq).fq\""
   ]
  },
  {
   "cell_type": "code",
   "execution_count": 17,
   "metadata": {},
   "outputs": [
    {
     "name": "stdout",
     "output_type": "stream",
     "text": [
      "\u001b[31mHIPPLAT_NEF95054_S2_R1.fq\u001b[m\u001b[m \u001b[31mMICPACI_UW157426_S7_R1.fq\u001b[m\u001b[m \u001b[34mraw\u001b[m\u001b[m\n",
      "\u001b[31mHIPPLAT_NEF95054_S2_R2.fq\u001b[m\u001b[m \u001b[31mMICPACI_UW157426_S7_R2.fq\u001b[m\u001b[m\n"
     ]
    }
   ],
   "source": [
    "!ls"
   ]
  },
  {
   "cell_type": "markdown",
   "metadata": {},
   "source": [
    "### I have successfully changed my fastq files into fq files. They have to be .fq in order to work as input files for the perl script trim_adaptor.pl "
   ]
  },
  {
   "cell_type": "code",
   "execution_count": 18,
   "metadata": {},
   "outputs": [
    {
     "name": "stdout",
     "output_type": "stream",
     "text": [
      "/Users/laurelnave-powers/Desktop/GitHub/Laurel-genes\n"
     ]
    }
   ],
   "source": [
    "cd ../"
   ]
  },
  {
   "cell_type": "markdown",
   "metadata": {},
   "source": [
    "### Before running the script I need to check the options and make sure it will work:"
   ]
  },
  {
   "cell_type": "code",
   "execution_count": 26,
   "metadata": {},
   "outputs": [
    {
     "name": "stdout",
     "output_type": "stream",
     "text": [
      "Can't locate Parallel/ForkManager.pm in @INC (you may need to install the Parallel::ForkManager module) (@INC contains: /Library/Perl/5.18/darwin-thread-multi-2level /Library/Perl/5.18 /Network/Library/Perl/5.18/darwin-thread-multi-2level /Network/Library/Perl/5.18 /Library/Perl/Updates/5.18.4 /System/Library/Perl/5.18/darwin-thread-multi-2level /System/Library/Perl/5.18 /System/Library/Perl/Extras/5.18/darwin-thread-multi-2level /System/Library/Perl/Extras/5.18 .) at trim_adaptor.pl line 6.\n",
      "BEGIN failed--compilation aborted at trim_adaptor.pl line 6.\n"
     ]
    }
   ],
   "source": [
    "!perl trim_adaptor.pl -h"
   ]
  },
  {
   "cell_type": "markdown",
   "metadata": {},
   "source": [
    "### I need to install the Parallel/ForkManager.pm, and other modules, before using this script. It needs to go in the @INC location indicated in the error message. See the README for more information on downloads. "
   ]
  },
  {
   "cell_type": "code",
   "execution_count": 25,
   "metadata": {},
   "outputs": [
    {
     "name": "stdout",
     "output_type": "stream",
     "text": [
      "\n",
      "This is perl 5, version 18, subversion 4 (v5.18.4) built for darwin-thread-multi-2level\n",
      "(with 2 registered patches, see perl -V for more detail)\n",
      "\n",
      "Copyright 1987-2013, Larry Wall\n",
      "\n",
      "Perl may be copied only under the terms of either the Artistic License or the\n",
      "GNU General Public License, which may be found in the Perl 5 source kit.\n",
      "\n",
      "Complete documentation for Perl, including FAQ lists, should be found on\n",
      "this system using \"man perl\" or \"perldoc perl\".  If you have access to the\n",
      "Internet, point your browser at http://www.perl.org/, the Perl Home Page.\n",
      "\n"
     ]
    }
   ],
   "source": [
    "!perl --version"
   ]
  },
  {
   "cell_type": "markdown",
   "metadata": {},
   "source": [
    "### I successfully downloaded the modules needed, as well as the packages trim_galore and cutadapt. I also moved the script trim_adaptor.pl into the same location as the modules and packages. Now when I run the help flag on the script, it comes up correctly without an error message. "
   ]
  },
  {
   "cell_type": "code",
   "execution_count": 6,
   "metadata": {},
   "outputs": [
    {
     "name": "stdout",
     "output_type": "stream",
     "text": [
      "\n",
      "Script name: trim_adaptor.pl\n",
      "\n",
      "This is a script to trim low quality bases and adaptor from 3' end of reads\n",
      "\n",
      "Dependencies:\n",
      "(1) trim_galore v0.4.1 or higher\n",
      "(2) cutadapt v1.2.1 or higher\n",
      "\n",
      "Example usage:\n",
      "(1) When inline index are involved in samples\n",
      "\n",
      "\tperl trim_adaptor.pl --raw_reads demultiplexed --inline_index inlineindex.txt --index_pair indexpair.txt --trimmed trimmed\n",
      "\n",
      "(2) When no inline index are involved in samples\n",
      "\n",
      "\tperl trim_adaptor.pl --raw_reads demultiplexed --trimmed trimmed\t\n",
      "\n",
      "Input files: \n",
      "(1) demultiplexed\n",
      "(2) inlineindex.txt (if --inline_index is specified)\n",
      "(3) indexpair.txt (if --index_pair is specified)\n",
      "\n",
      "Output files:\n",
      "(1) trimmed\n",
      "(2) trimmed_reads_bases_count.txt (file summarized number of reads and bases in raw and trimmed reads)\n",
      "\n",
      "Options:\n",
      "--raw_reads\n",
      "  Directory containing demultiplexed reads\n",
      "--inline_index\n",
      "  Inline index file, please refer to inlineindex.txt for its detailed format\n",
      "--index_pair\n",
      "  Inline index pair for each sample, please refer to indexpair.txt for its detailed format\n",
      "--adapter_R1\n",
      "  Adaptor to be trimmed on R1 side for non inline-indexed reads, 'AGATCGGAAGAGCACACGTCTGAACTCCAGTCAC' in default\n",
      "--adapter_R2\n",
      "  Adaptor to be trimmed on R2 side for non inline-indexed reads, 'AGATCGGAAGAGCGTCGTGTAGGGAAAGAGTGT' in default\n",
      "--cutadapt_path\n",
      "  Specify a path to the Cutadapt executable, else it is assumed that Cutadapt is in $PATH\n",
      "--trimmed\n",
      "  Directory containing reads without adaptor and low quality bases\n",
      "--cpu\n",
      "  Limit the number of CPUs, 1 in default\n",
      "--help , -h\n",
      "  Show this help message and exit\n",
      "\n",
      "Author: Hao Yuan                                                                     \n",
      "        Shanghai Ocean University                                               \n",
      "        Shanghai, China, 201306                                                               \n",
      "                                                                                         \n",
      "Created by: 20 Nov, 2018                                                              \n",
      "                                                                                         \n",
      "Last modified by: \n"
     ]
    }
   ],
   "source": [
    "!perl trim_adaptor.pl -h"
   ]
  },
  {
   "cell_type": "code",
   "execution_count": 27,
   "metadata": {},
   "outputs": [
    {
     "name": "stdout",
     "output_type": "stream",
     "text": [
      "Can't exec \"trim_galore\": No such file or directory at trim_adaptor.pl line 42.\n",
      "\n",
      "ERROR: Cannot find trim_galore under $PATH\n",
      "\n"
     ]
    }
   ],
   "source": [
    "!perl trim_adaptor.pl --raw_reads demultiplexed --trimmed trimmed"
   ]
  },
  {
   "cell_type": "markdown",
   "metadata": {},
   "source": [
    "### I am getting an error message saying trim_galore is not in the path. I need to add this path to my computer. I did this in terminal using: \n",
    "nano ~/.zshrc \n",
    "### At the end of the file put the following two lines:\n",
    "#Add to PATH\n",
    "\n",
    "export PATH=${PATH}:/Users/laurelnave-powers/opt/miniconda3/lib/5.32.0/darwin-thread-multi-2level"
   ]
  },
  {
   "cell_type": "markdown",
   "metadata": {},
   "source": [
    "### I can check that it worked by completely exiting terminal, and then running:"
   ]
  },
  {
   "cell_type": "code",
   "execution_count": 1,
   "metadata": {},
   "outputs": [
    {
     "name": "stdout",
     "output_type": "stream",
     "text": [
      "/Users/laurelnave-powers/opt/miniconda3/bin:/Users/laurelnave-powers/opt/miniconda3/condabin:/usr/local/bin:/usr/bin:/bin:/usr/sbin:/sbin:/Users/laurelnave-powers/opt/miniconda3/lib/5.32.0/darwin-thread-multi-2level:/Library/Perl/5.18:/Users/laurelnave-powers/opt/miniconda3/lib/5.32.0/darwin-thread-multi-2level\n"
     ]
    }
   ],
   "source": [
    "!echo $PATH"
   ]
  },
  {
   "cell_type": "code",
   "execution_count": 3,
   "metadata": {},
   "outputs": [
    {
     "name": "stdout",
     "output_type": "stream",
     "text": [
      "/Users/laurelnave-powers/Desktop/GitHub/Laurel-genes\n"
     ]
    }
   ],
   "source": [
    "!pwd"
   ]
  },
  {
   "cell_type": "code",
   "execution_count": 1,
   "metadata": {},
   "outputs": [
    {
     "name": "stdout",
     "output_type": "stream",
     "text": [
      "/Users/laurelnave-powers/opt/miniconda3/lib/5.32.0/darwin-thread-multi-2level\n"
     ]
    }
   ],
   "source": [
    "cd /Users/laurelnave-powers/opt/miniconda3/lib/5.32.0/darwin-thread-multi-2level"
   ]
  },
  {
   "cell_type": "code",
   "execution_count": 3,
   "metadata": {},
   "outputs": [
    {
     "name": "stdout",
     "output_type": "stream",
     "text": [
      "Can't exec \"cutadapt\": No such file or directory at trim_adaptor.pl line 43.\n",
      "\n",
      "ERROR: Cannot find cutadapt under $PATH\n",
      "\n"
     ]
    }
   ],
   "source": [
    "!perl trim_adaptor.pl --raw_reads demultiplexed --trimmed trimmed"
   ]
  },
  {
   "cell_type": "code",
   "execution_count": 2,
   "metadata": {},
   "outputs": [
    {
     "name": "stdout",
     "output_type": "stream",
     "text": [
      "\u001b[34mB\u001b[m\u001b[m                    \u001b[34mFilter\u001b[m\u001b[m               Socket.pm\n",
      "B.pm                 \u001b[34mHash\u001b[m\u001b[m                 Storable.pm\n",
      "\u001b[34mCORE\u001b[m\u001b[m                 \u001b[34mI18N\u001b[m\u001b[m                 StrictConstructor.pm\n",
      "\u001b[34mCompress\u001b[m\u001b[m             \u001b[34mIO\u001b[m\u001b[m                   \u001b[34mSub\u001b[m\u001b[m\n",
      "Config.pm            IO.pm                \u001b[34mSys\u001b[m\u001b[m\n",
      "Config.pm.orig       \u001b[34mIPC\u001b[m\u001b[m                  \u001b[34mTime\u001b[m\u001b[m\n",
      "Config.pod           \u001b[34mList\u001b[m\u001b[m                 \u001b[34mUnicode\u001b[m\u001b[m\n",
      "Config_git.pl        \u001b[34mMIME\u001b[m\u001b[m                 attributes.pm\n",
      "Config_heavy.pl      \u001b[34mMath\u001b[m\u001b[m                 \u001b[34mauto\u001b[m\u001b[m\n",
      "Constructor.pm       \u001b[34mMoo\u001b[m\u001b[m                  \u001b[31mcutadapt\u001b[m\u001b[m\n",
      "Cwd.pm               Moo.pm               encoding.pm\n",
      "DB_File.pm           NDBM_File.pm         lib.pm\n",
      "\u001b[34mData\u001b[m\u001b[m                 O.pm                 mro.pm\n",
      "\u001b[34mDevel\u001b[m\u001b[m                Opcode.pm            ops.pm\n",
      "\u001b[34mDigest\u001b[m\u001b[m               POSIX.pm             re.pm\n",
      "DynaLoader.pm        POSIX.pod            \u001b[34mthreads\u001b[m\u001b[m\n",
      "\u001b[34mEncode\u001b[m\u001b[m               \u001b[34mParallel\u001b[m\u001b[m             threads.pm\n",
      "Encode.pm            \u001b[34mPerlIO\u001b[m\u001b[m               trim_adaptor.pl\n",
      "Errno.pm             \u001b[34mRole\u001b[m\u001b[m                 \u001b[31mtrim_galore\u001b[m\u001b[m\n",
      "Fcntl.pm             SDBM_File.pm\n",
      "\u001b[34mFile\u001b[m\u001b[m                 \u001b[34mScalar\u001b[m\u001b[m\n"
     ]
    }
   ],
   "source": [
    "!ls"
   ]
  },
  {
   "cell_type": "markdown",
   "metadata": {},
   "source": [
    "### I am getting an error saying cutadapt is not in the path, even though it is in the same place as trim_galore. This is because I downloaded cutadapt using conda. To use the package I have to activate a cutadapt environment first. "
   ]
  },
  {
   "cell_type": "markdown",
   "metadata": {},
   "source": [
    "### In the terminal I used: \n",
    "conda activate cutadaptenv \n",
    "### This activates the cutadapt environment and now cutadapt can be found by the script. \n",
    "### Then I made sure I was in the directory with all of the modules and the script and I ran the script in terminal using:\n",
    "perl trim_adaptor.pl \\\n",
    "--raw_reads ~/Desktop/GitHub/Laurel-genes/data/demultiplexed \\\n",
    "--trimmed ~/Desktop/GitHub/Laurel-genes/analyses/trimmed\n",
    "### Because I am not in the same directory as my data I needed to provide the whole path to the data as the input and output. \n",
    "### Input: Four .fq files (one forward and one reverse each for 2 species) in the folder \"demultiplexed\" within \"data\". \n",
    "### Output: Four trimmed .fq files in the folder \"trimmed\" within \"analyses\". Four report .txt files which I then moved into the folder \"trimmed_supp\" within \"analyses\". "
   ]
  }
 ],
 "metadata": {
  "kernelspec": {
   "display_name": "Python 3",
   "language": "python",
   "name": "python3"
  },
  "language_info": {
   "codemirror_mode": {
    "name": "ipython",
    "version": 3
   },
   "file_extension": ".py",
   "mimetype": "text/x-python",
   "name": "python",
   "nbconvert_exporter": "python",
   "pygments_lexer": "ipython3",
   "version": "3.8.5"
  }
 },
 "nbformat": 4,
 "nbformat_minor": 4
}
