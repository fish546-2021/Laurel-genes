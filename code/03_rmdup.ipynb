{
 "cells": [
  {
   "cell_type": "markdown",
   "metadata": {},
   "source": [
    "# Removing duplicate reads from PCR"
   ]
  },
  {
   "cell_type": "markdown",
   "metadata": {},
   "source": [
    "#### The script to be used is `rmdup.pl`, located with all the modules and packages in `/Users/laurelnave-powers/opt/miniconda3/lib/5.32.0/darwin-thread-multi-2level`. "
   ]
  },
  {
   "cell_type": "markdown",
   "metadata": {},
   "source": [
    "#### First I will navigate there and then I will call the help flag to see what I need to install to make it work. "
   ]
  },
  {
   "cell_type": "code",
   "execution_count": 1,
   "metadata": {},
   "outputs": [
    {
     "name": "stdout",
     "output_type": "stream",
     "text": [
      "/Users/laurelnave-powers/Desktop/GitHub/Laurel-genes\n"
     ]
    }
   ],
   "source": [
    "!pwd"
   ]
  },
  {
   "cell_type": "code",
   "execution_count": 2,
   "metadata": {},
   "outputs": [
    {
     "name": "stdout",
     "output_type": "stream",
     "text": [
      "/Users/laurelnave-powers/opt/miniconda3/lib/5.32.0/darwin-thread-multi-2level\n"
     ]
    }
   ],
   "source": [
    "cd /Users/laurelnave-powers/opt/miniconda3/lib/5.32.0/darwin-thread-multi-2level"
   ]
  },
  {
   "cell_type": "code",
   "execution_count": 3,
   "metadata": {},
   "outputs": [
    {
     "name": "stdout",
     "output_type": "stream",
     "text": [
      "Bareword found where operator expected at rmdup.pl line 8, near \"\"en\" data\"\n",
      "\t(Missing operator before data?)\n",
      "Bareword found where operator expected at rmdup.pl line 8, near \"\"light\" data\"\n",
      "\t(Missing operator before data?)\n",
      "Bareword found where operator expected at rmdup.pl line 8, near \"\"light\" data\"\n",
      "\t(Missing operator before data?)\n",
      "Can't modify numeric lt (<) in scalar assignment at rmdup.pl line 8, near \"\"en\" data\"\n",
      "syntax error at rmdup.pl line 8, near \"\"en\" data\"\n",
      "Excessively long <> operator at rmdup.pl line 18.\n"
     ]
    }
   ],
   "source": [
    "!perl rmdup.pl -h"
   ]
  },
  {
   "cell_type": "markdown",
   "metadata": {},
   "source": [
    "I don't understand these errors. I will look at the script in atom to see if I can figure it out. "
   ]
  },
  {
   "cell_type": "code",
   "execution_count": null,
   "metadata": {},
   "outputs": [],
   "source": []
  }
 ],
 "metadata": {
  "kernelspec": {
   "display_name": "Python 3",
   "language": "python",
   "name": "python3"
  },
  "language_info": {
   "codemirror_mode": {
    "name": "ipython",
    "version": 3
   },
   "file_extension": ".py",
   "mimetype": "text/x-python",
   "name": "python",
   "nbconvert_exporter": "python",
   "pygments_lexer": "ipython3",
   "version": "3.8.5"
  }
 },
 "nbformat": 4,
 "nbformat_minor": 4
}
