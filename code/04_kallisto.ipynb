{
 "cells": [
  {
   "cell_type": "markdown",
   "metadata": {},
   "source": [
    "## Doing alignment using Kallisto"
   ]
  },
  {
   "cell_type": "code",
   "execution_count": 11,
   "metadata": {},
   "outputs": [
    {
     "name": "stdout",
     "output_type": "stream",
     "text": [
      "/Users/laurelnave-powers/Desktop/GitHub/Laurel-genes/analyses\n"
     ]
    }
   ],
   "source": [
    "cd /Users/laurelnave-powers/Desktop/GitHub/Laurel-genes/analyses"
   ]
  },
  {
   "cell_type": "code",
   "execution_count": 12,
   "metadata": {},
   "outputs": [
    {
     "name": "stdout",
     "output_type": "stream",
     "text": [
      "kallisto 0.46.2\n",
      "\n",
      "Usage: kallisto <CMD> [arguments] ..\n",
      "\n",
      "Where <CMD> can be one of:\n",
      "\n",
      "    index         Builds a kallisto index \n",
      "    quant         Runs the quantification algorithm \n",
      "    bus           Generate BUS files for single-cell data \n",
      "    pseudo        Runs the pseudoalignment step \n",
      "    merge         Merges several batch runs \n",
      "    h5dump        Converts HDF5-formatted results to plaintext\n",
      "    inspect       Inspects and gives information about an index\n",
      "    version       Prints version information\n",
      "    cite          Prints citation information\n",
      "\n",
      "Running kallisto <CMD> without arguments prints usage information for <CMD>\n",
      "\n"
     ]
    }
   ],
   "source": [
    "! kallisto"
   ]
  },
  {
   "cell_type": "markdown",
   "metadata": {},
   "source": [
    "#### First I need to build an index. The reference fasta file is downloaded from https://uswest.ensembl.org/Danio_rerio/Info/Index."
   ]
  },
  {
   "cell_type": "code",
   "execution_count": 19,
   "metadata": {},
   "outputs": [
    {
     "name": "stdout",
     "output_type": "stream",
     "text": [
      "\n",
      "[build] loading fasta file ../data/raw/Danio_rerio.GRCz11.dna.alt.fa.gz\n",
      "[build] k-mer length: 31\n",
      "[build] counting k-mers ... "
     ]
    }
   ],
   "source": [
    "! kallisto index -i index_kallisto.idx ../data/raw/Danio_rerio.GRCz11.dna.alt.fa.gz"
   ]
  },
  {
   "cell_type": "code",
   "execution_count": 20,
   "metadata": {},
   "outputs": [
    {
     "name": "stdout",
     "output_type": "stream",
     "text": [
      "total 72\n",
      "-rw-r--r--   1 laurelnave-powers  staff  5333 Feb 26 14:04 HIPPLAT_subset.fasta\n",
      "-rw-r--r--   1 laurelnave-powers  staff  1452 Feb 26 14:09 HIPPLAT_subset.fasta.fai\n",
      "-rw-r--r--   1 laurelnave-powers  staff  5898 Mar  4 10:43 error.stderr\n",
      "drwxr-xr-x@ 12 laurelnave-powers  staff   384 Feb 26 12:07 \u001b[34mfastqc\u001b[m\u001b[m\n",
      "drwxr-xr-x@  2 laurelnave-powers  staff    64 Feb 25 08:19 \u001b[34mrmdup\u001b[m\u001b[m\n",
      "-rw-r--r--@  1 laurelnave-powers  staff    21 Mar  4 10:02 samplelist.txt\n",
      "-rw-r--r--   1 laurelnave-powers  staff  9283 Feb 26 14:02 sub1.fq\n",
      "drwxr-xr-x@  7 laurelnave-powers  staff   224 Feb 11 10:24 \u001b[34mtrimmed\u001b[m\u001b[m\n",
      "drwxr-xr-x@ 10 laurelnave-powers  staff   320 Feb 11 10:52 \u001b[34mtrimmed_supp\u001b[m\u001b[m\n"
     ]
    }
   ],
   "source": [
    "! ls -l "
   ]
  },
  {
   "cell_type": "code",
   "execution_count": 21,
   "metadata": {},
   "outputs": [
    {
     "name": "stdout",
     "output_type": "stream",
     "text": [
      "zsh:1: no matches found: *.idx\n"
     ]
    }
   ],
   "source": [
    "! find *.idx"
   ]
  },
  {
   "cell_type": "code",
   "execution_count": null,
   "metadata": {},
   "outputs": [],
   "source": []
  }
 ],
 "metadata": {
  "kernelspec": {
   "display_name": "Python 3",
   "language": "python",
   "name": "python3"
  },
  "language_info": {
   "codemirror_mode": {
    "name": "ipython",
    "version": 3
   },
   "file_extension": ".py",
   "mimetype": "text/x-python",
   "name": "python",
   "nbconvert_exporter": "python",
   "pygments_lexer": "ipython3",
   "version": "3.8.5"
  }
 },
 "nbformat": 4,
 "nbformat_minor": 4
}
