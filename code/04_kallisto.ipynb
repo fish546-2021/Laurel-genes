{
 "cells": [
  {
   "cell_type": "markdown",
   "metadata": {},
   "source": [
    "## Doing alignment using Kallisto"
   ]
  },
  {
   "cell_type": "code",
   "execution_count": 11,
   "metadata": {},
   "outputs": [
    {
     "name": "stdout",
     "output_type": "stream",
     "text": [
      "/Users/laurelnave-powers/Desktop/GitHub/Laurel-genes/analyses\n"
     ]
    }
   ],
   "source": [
    "cd /Users/laurelnave-powers/Desktop/GitHub/Laurel-genes/analyses"
   ]
  },
  {
   "cell_type": "code",
   "execution_count": 12,
   "metadata": {},
   "outputs": [
    {
     "name": "stdout",
     "output_type": "stream",
     "text": [
      "kallisto 0.46.2\n",
      "\n",
      "Usage: kallisto <CMD> [arguments] ..\n",
      "\n",
      "Where <CMD> can be one of:\n",
      "\n",
      "    index         Builds a kallisto index \n",
      "    quant         Runs the quantification algorithm \n",
      "    bus           Generate BUS files for single-cell data \n",
      "    pseudo        Runs the pseudoalignment step \n",
      "    merge         Merges several batch runs \n",
      "    h5dump        Converts HDF5-formatted results to plaintext\n",
      "    inspect       Inspects and gives information about an index\n",
      "    version       Prints version information\n",
      "    cite          Prints citation information\n",
      "\n",
      "Running kallisto <CMD> without arguments prints usage information for <CMD>\n",
      "\n"
     ]
    }
   ],
   "source": [
    "! kallisto"
   ]
  },
  {
   "cell_type": "markdown",
   "metadata": {},
   "source": [
    "#### First I need to build an index. The reference fasta file is downloaded from https://uswest.ensembl.org/Danio_rerio/Info/Index."
   ]
  },
  {
   "cell_type": "code",
   "execution_count": 22,
   "metadata": {},
   "outputs": [
    {
     "name": "stdout",
     "output_type": "stream",
     "text": [
      "\n",
      "[build] loading fasta file ../data/raw/Danio_rerio.GRCz11.dna.alt.fa.gz\n",
      "[build] k-mer length: 31\n",
      "^C\n"
     ]
    }
   ],
   "source": [
    "! kallisto index -i index_kallisto.idx ../data/raw/Danio_rerio.GRCz11.dna.alt.fa.gz"
   ]
  },
  {
   "cell_type": "markdown",
   "metadata": {},
   "source": [
    "#### The above code does not work in this notebook, see 04.1_kallisto-SR.ipynb for the successful index building. The index is located in the data folder as index_kallisto.idx"
   ]
  },
  {
   "cell_type": "markdown",
   "metadata": {},
   "source": [
    "#### Now that I have an index, I can quantify expression on my data. First let's do the forward and reverse files for hipplat. "
   ]
  },
  {
   "cell_type": "code",
   "execution_count": 24,
   "metadata": {},
   "outputs": [
    {
     "name": "stdout",
     "output_type": "stream",
     "text": [
      "\n",
      "[quant] fragment length distribution will be estimated from the data\n",
      "Warning: kallisto was not compiled with HDF5 support so no bootstrapping\n",
      "will be performed. Run quant with --plaintext option or recompile with\n",
      "HDF5 support to obtain bootstrap estimates.\n",
      "[index] k-mer length: 31\n",
      "[index] number of targets: 2\n",
      "[index] number of k-mers: 1,884\n",
      "[index] number of equivalence classes: 2\n",
      "[quant] running in paired-end mode\n",
      "[quant] will process pair 1: ../data/raw/HIPPLAT_NEF95054_S2_R1.fastq\n",
      "                             ../data/raw/HIPPLAT_NEF95054_S2_R2.fastq\n",
      "[quant] finding pseudoalignments for the reads ... done\n",
      "[quant] processed 15,515,103 reads, 0 reads pseudoaligned\n",
      "[~warn] no reads pseudoaligned.\n",
      "[quant] estimated average fragment length: 0\n",
      "[   em] quantifying the abundances ... done\n",
      "[   em] the Expectation-Maximization algorithm ran for 52 rounds\n",
      "[~warn] Warning, zero reads pseudoaligned check your input files and index\n",
      "\n"
     ]
    }
   ],
   "source": [
    "! kallisto quant -i ../data/index_kallisto.idx -t 4 -o kallisto_output -b 100 ../data/raw/HIPPLAT_NEF95054_S2_R1.fastq ../data/raw/HIPPLAT_NEF95054_S2_R2.fastq"
   ]
  }
 ],
 "metadata": {
  "kernelspec": {
   "display_name": "Python 3",
   "language": "python",
   "name": "python3"
  },
  "language_info": {
   "codemirror_mode": {
    "name": "ipython",
    "version": 3
   },
   "file_extension": ".py",
   "mimetype": "text/x-python",
   "name": "python",
   "nbconvert_exporter": "python",
   "pygments_lexer": "ipython3",
   "version": "3.8.5"
  }
 },
 "nbformat": 4,
 "nbformat_minor": 4
}
