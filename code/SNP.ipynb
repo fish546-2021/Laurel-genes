{
 "cells": [
  {
   "cell_type": "markdown",
   "metadata": {},
   "source": [
    "## Calling SNPs "
   ]
  },
  {
   "cell_type": "markdown",
   "metadata": {},
   "source": [
    "### Using samtools mpileup "
   ]
  },
  {
   "cell_type": "markdown",
   "metadata": {},
   "source": [
    "#### First I need to convert my SAM alignment files to BAM files. Then sort and index an la "
   ]
  },
  {
   "cell_type": "code",
   "execution_count": 10,
   "metadata": {},
   "outputs": [
    {
     "name": "stdout",
     "output_type": "stream",
     "text": [
      "/Users/laurelnave-powers/Desktop/GitHub/Laurel-genes/data\n"
     ]
    }
   ],
   "source": [
    "!pwd"
   ]
  },
  {
   "cell_type": "code",
   "execution_count": 12,
   "metadata": {},
   "outputs": [
    {
     "name": "stdout",
     "output_type": "stream",
     "text": [
      "/Applications/bioinfo/samtools1.11/bin\n"
     ]
    }
   ],
   "source": [
    "cd /Applications/bioinfo/samtools1.11/bin"
   ]
  },
  {
   "cell_type": "code",
   "execution_count": 14,
   "metadata": {},
   "outputs": [
    {
     "name": "stdout",
     "output_type": "stream",
     "text": [
      "\u001b[31mace2sam\u001b[m\u001b[m               \u001b[31mmd5fa\u001b[m\u001b[m                 \u001b[31msamtools\u001b[m\u001b[m\n",
      "\u001b[31mblast2sam.pl\u001b[m\u001b[m          \u001b[31mmd5sum-lite\u001b[m\u001b[m           \u001b[31msamtools.pl\u001b[m\u001b[m\n",
      "\u001b[31mbowtie2sam.pl\u001b[m\u001b[m         \u001b[31mnovo2sam.pl\u001b[m\u001b[m           \u001b[31mseq_cache_populate.pl\u001b[m\u001b[m\n",
      "\u001b[31mexport2sam.pl\u001b[m\u001b[m         \u001b[31mplot-ampliconstats\u001b[m\u001b[m    \u001b[31msoap2sam.pl\u001b[m\u001b[m\n",
      "\u001b[31minterpolate_sam.pl\u001b[m\u001b[m    \u001b[31mplot-bamstats\u001b[m\u001b[m         \u001b[31mwgsim\u001b[m\u001b[m\n",
      "\u001b[31mmaq2sam-long\u001b[m\u001b[m          \u001b[31mpsl2sam.pl\u001b[m\u001b[m            \u001b[31mwgsim_eval.pl\u001b[m\u001b[m\n",
      "\u001b[31mmaq2sam-short\u001b[m\u001b[m         \u001b[31msam2vcf.pl\u001b[m\u001b[m            \u001b[31mzoom2sam.pl\u001b[m\u001b[m\n"
     ]
    }
   ],
   "source": [
    "! ls"
   ]
  },
  {
   "cell_type": "code",
   "execution_count": 2,
   "metadata": {},
   "outputs": [
    {
     "name": "stdout",
     "output_type": "stream",
     "text": [
      "\n",
      "Program: samtools (Tools for alignments in the SAM format)\n",
      "Version: 1.11 (using htslib 1.11)\n",
      "\n",
      "Usage:   samtools <command> [options]\n",
      "\n",
      "Commands:\n",
      "  -- Indexing\n",
      "     dict           create a sequence dictionary file\n",
      "     faidx          index/extract FASTA\n",
      "     fqidx          index/extract FASTQ\n",
      "     index          index alignment\n",
      "\n",
      "  -- Editing\n",
      "     calmd          recalculate MD/NM tags and '=' bases\n",
      "     fixmate        fix mate information\n",
      "     reheader       replace BAM header\n",
      "     targetcut      cut fosmid regions (for fosmid pool only)\n",
      "     addreplacerg   adds or replaces RG tags\n",
      "     markdup        mark duplicates\n",
      "     ampliconclip   clip oligos from the end of reads\n",
      "\n",
      "  -- File operations\n",
      "     collate        shuffle and group alignments by name\n",
      "     cat            concatenate BAMs\n",
      "     merge          merge sorted alignments\n",
      "     mpileup        multi-way pileup\n",
      "     sort           sort alignment file\n",
      "     split          splits a file by read group\n",
      "     quickcheck     quickly check if SAM/BAM/CRAM file appears intact\n",
      "     fastq          converts a BAM to a FASTQ\n",
      "     fasta          converts a BAM to a FASTA\n",
      "\n",
      "  -- Statistics\n",
      "     bedcov         read depth per BED region\n",
      "     coverage       alignment depth and percent coverage\n",
      "     depth          compute the depth\n",
      "     flagstat       simple stats\n",
      "     idxstats       BAM index stats\n",
      "     phase          phase heterozygotes\n",
      "     stats          generate stats (former bamcheck)\n",
      "     ampliconstats  generate amplicon specific stats\n",
      "\n",
      "  -- Viewing\n",
      "     flags          explain BAM flags\n",
      "     tview          text alignment viewer\n",
      "     view           SAM<->BAM<->CRAM conversion\n",
      "     depad          convert padded BAM to unpadded BAM\n",
      "\n"
     ]
    }
   ],
   "source": [
    "!samtools"
   ]
  },
  {
   "cell_type": "code",
   "execution_count": 5,
   "metadata": {},
   "outputs": [
    {
     "name": "stdout",
     "output_type": "stream",
     "text": [
      "Usage: samtools sort [options...] [in.bam]\n",
      "Options:\n",
      "  -l INT     Set compression level, from 0 (uncompressed) to 9 (best)\n",
      "  -u         Output uncompressed data (equivalent to -l 0)\n",
      "  -m INT     Set maximum memory per thread; suffix K/M/G recognized [768M]\n",
      "  -M         Use minimiser for clustering unaligned/unplaced reads\n",
      "  -K INT     Kmer size to use for minimiser [20]\n",
      "  -n         Sort by read name (not compatible with samtools index command)\n",
      "  -t TAG     Sort by value of TAG. Uses position as secondary index (or read name if -n is set)\n",
      "  -o FILE    Write final output to FILE rather than standard output\n",
      "  -T PREFIX  Write temporary files to PREFIX.nnnn.bam\n",
      "  --no-PG    do not add a PG line\n",
      "[main] unrecognized command 'samtools'\n",
      "      --input-fmt-option OPT[=VAL]\n",
      "               Specify a single input file format option in the form\n",
      "               of OPTION or OPTION=VALUE\n",
      "  -O, --output-fmt FORMAT[,OPT[=VAL]]...\n",
      "               Specify output format (SAM, BAM, CRAM)\n",
      "      --output-fmt-option OPT[=VAL]\n",
      "               Specify a single output file format option in the form\n",
      "               of OPTION or OPTION=VALUE\n",
      "      --reference FILE\n",
      "               Reference sequence FASTA FILE [null]\n",
      "  -@, --threads INT\n",
      "               Number of additional threads to use [0]\n",
      "      --verbosity INT\n",
      "               Set level of verbosity\n"
     ]
    }
   ],
   "source": [
    "!/Applications/bioinfo/samtools1.11/bin/samtools \\\n",
    "samtools view -bS ../analyses/HIPP-DR.sam \\\n",
    "| samtools sort -o ../analyses/HIPP-DR.bam \\\n",
    "samtools index ../analyses/HIPP-DR.bam"
   ]
  },
  {
   "cell_type": "markdown",
   "metadata": {},
   "source": [
    "#### Then I need to mpileup the la "
   ]
  },
  {
   "cell_type": "code",
   "execution_count": null,
   "metadata": {},
   "outputs": [],
   "source": [
    "!/Applications/bioinfo/samtools1.11/bin/samtools \\\n",
    "samtools mpileup --VCF --no-BAQ \\\n",
    "--fasta-ref Danio_rerio.GRCz11.dna_sm.toplevel.fa.gz \\\n",
    "../analyses/HIPP-DR.bam \\\n",
    "-o ../analyses/HIPP-DR.vcf.gz"
   ]
  }
 ],
 "metadata": {
  "kernelspec": {
   "display_name": "Python 3",
   "language": "python",
   "name": "python3"
  },
  "language_info": {
   "codemirror_mode": {
    "name": "ipython",
    "version": 3
   },
   "file_extension": ".py",
   "mimetype": "text/x-python",
   "name": "python",
   "nbconvert_exporter": "python",
   "pygments_lexer": "ipython3",
   "version": "3.8.5"
  }
 },
 "nbformat": 4,
 "nbformat_minor": 4
}
