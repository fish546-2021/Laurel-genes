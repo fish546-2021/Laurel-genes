{
 "cells": [
  {
   "cell_type": "markdown",
   "metadata": {},
   "source": [
    "## Calling SNPs "
   ]
  },
  {
   "cell_type": "markdown",
   "metadata": {},
   "source": [
    "### Using samtools mpileup "
   ]
  },
  {
   "cell_type": "markdown",
   "metadata": {},
   "source": [
    "#### First I need to convert my SAM alignment files to BAM files. Then sort and index it"
   ]
  },
  {
   "cell_type": "code",
   "execution_count": 10,
   "metadata": {},
   "outputs": [
    {
     "name": "stdout",
     "output_type": "stream",
     "text": [
      "/Users/laurelnave-powers/Desktop/GitHub/Laurel-genes/data\n"
     ]
    }
   ],
   "source": [
    "!pwd"
   ]
  },
  {
   "cell_type": "code",
   "execution_count": 12,
   "metadata": {},
   "outputs": [
    {
     "name": "stdout",
     "output_type": "stream",
     "text": [
      "/Applications/bioinfo/samtools1.11/bin\n"
     ]
    }
   ],
   "source": [
    "cd /Applications/bioinfo/samtools1.11/bin"
   ]
  },
  {
   "cell_type": "code",
   "execution_count": 14,
   "metadata": {},
   "outputs": [
    {
     "name": "stdout",
     "output_type": "stream",
     "text": [
      "\u001b[31mace2sam\u001b[m\u001b[m               \u001b[31mmd5fa\u001b[m\u001b[m                 \u001b[31msamtools\u001b[m\u001b[m\n",
      "\u001b[31mblast2sam.pl\u001b[m\u001b[m          \u001b[31mmd5sum-lite\u001b[m\u001b[m           \u001b[31msamtools.pl\u001b[m\u001b[m\n",
      "\u001b[31mbowtie2sam.pl\u001b[m\u001b[m         \u001b[31mnovo2sam.pl\u001b[m\u001b[m           \u001b[31mseq_cache_populate.pl\u001b[m\u001b[m\n",
      "\u001b[31mexport2sam.pl\u001b[m\u001b[m         \u001b[31mplot-ampliconstats\u001b[m\u001b[m    \u001b[31msoap2sam.pl\u001b[m\u001b[m\n",
      "\u001b[31minterpolate_sam.pl\u001b[m\u001b[m    \u001b[31mplot-bamstats\u001b[m\u001b[m         \u001b[31mwgsim\u001b[m\u001b[m\n",
      "\u001b[31mmaq2sam-long\u001b[m\u001b[m          \u001b[31mpsl2sam.pl\u001b[m\u001b[m            \u001b[31mwgsim_eval.pl\u001b[m\u001b[m\n",
      "\u001b[31mmaq2sam-short\u001b[m\u001b[m         \u001b[31msam2vcf.pl\u001b[m\u001b[m            \u001b[31mzoom2sam.pl\u001b[m\u001b[m\n"
     ]
    }
   ],
   "source": [
    "! ls"
   ]
  },
  {
   "cell_type": "code",
   "execution_count": 2,
   "metadata": {},
   "outputs": [
    {
     "name": "stdout",
     "output_type": "stream",
     "text": [
      "\n",
      "Program: samtools (Tools for alignments in the SAM format)\n",
      "Version: 1.11 (using htslib 1.11)\n",
      "\n",
      "Usage:   samtools <command> [options]\n",
      "\n",
      "Commands:\n",
      "  -- Indexing\n",
      "     dict           create a sequence dictionary file\n",
      "     faidx          index/extract FASTA\n",
      "     fqidx          index/extract FASTQ\n",
      "     index          index alignment\n",
      "\n",
      "  -- Editing\n",
      "     calmd          recalculate MD/NM tags and '=' bases\n",
      "     fixmate        fix mate information\n",
      "     reheader       replace BAM header\n",
      "     targetcut      cut fosmid regions (for fosmid pool only)\n",
      "     addreplacerg   adds or replaces RG tags\n",
      "     markdup        mark duplicates\n",
      "     ampliconclip   clip oligos from the end of reads\n",
      "\n",
      "  -- File operations\n",
      "     collate        shuffle and group alignments by name\n",
      "     cat            concatenate BAMs\n",
      "     merge          merge sorted alignments\n",
      "     mpileup        multi-way pileup\n",
      "     sort           sort alignment file\n",
      "     split          splits a file by read group\n",
      "     quickcheck     quickly check if SAM/BAM/CRAM file appears intact\n",
      "     fastq          converts a BAM to a FASTQ\n",
      "     fasta          converts a BAM to a FASTA\n",
      "\n",
      "  -- Statistics\n",
      "     bedcov         read depth per BED region\n",
      "     coverage       alignment depth and percent coverage\n",
      "     depth          compute the depth\n",
      "     flagstat       simple stats\n",
      "     idxstats       BAM index stats\n",
      "     phase          phase heterozygotes\n",
      "     stats          generate stats (former bamcheck)\n",
      "     ampliconstats  generate amplicon specific stats\n",
      "\n",
      "  -- Viewing\n",
      "     flags          explain BAM flags\n",
      "     tview          text alignment viewer\n",
      "     view           SAM<->BAM<->CRAM conversion\n",
      "     depad          convert padded BAM to unpadded BAM\n",
      "\n"
     ]
    }
   ],
   "source": [
    "!samtools"
   ]
  },
  {
   "cell_type": "code",
   "execution_count": 18,
   "metadata": {},
   "outputs": [
    {
     "name": "stderr",
     "output_type": "stream",
     "text": [
      "[bam_sort_core] merging from 13 files and 1 in-memory blocks...\n"
     ]
    }
   ],
   "source": [
    "%%bash\n",
    "# Convert SAM to sorted BAM\n",
    "samtools view -bS ../analyses/HIPP-DR.sam \\\n",
    "| samtools sort -o ../analyses/HIPP-DR.sorted.bam -\n",
    "\n",
    "# Create BAM index file\n",
    "samtools index ../analyses/HIPP-DR.sorted.bam"
   ]
  },
  {
   "cell_type": "markdown",
   "metadata": {},
   "source": [
    "#### Then I need to mpileup it"
   ]
  },
  {
   "cell_type": "code",
   "execution_count": 28,
   "metadata": {},
   "outputs": [
    {
     "name": "stdout",
     "output_type": "stream",
     "text": [
      "/Users/laurelnave-powers/Desktop/GitHub/Laurel-genes/code\n"
     ]
    }
   ],
   "source": [
    "!pwd"
   ]
  },
  {
   "cell_type": "code",
   "execution_count": 26,
   "metadata": {},
   "outputs": [],
   "source": [
    "!gunzip -k ../data/Danio_rerio.GRCz11.dna_sm.toplevel.fa.gz"
   ]
  },
  {
   "cell_type": "code",
   "execution_count": 29,
   "metadata": {},
   "outputs": [
    {
     "name": "stderr",
     "output_type": "stream",
     "text": [
      "[warning] samtools mpileup option `v` is functional, but deprecated. Please switch to using bcftools mpileup in future.\n",
      "[mpileup] 1 samples in 1 input files\n"
     ]
    }
   ],
   "source": [
    "%%bash\n",
    "samtools mpileup --VCF --no-BAQ \\\n",
    "--fasta-ref ../data/Danio_rerio.GRCz11.dna_sm.toplevel.fa \\\n",
    "../analyses/HIPP-DR.sorted.bam \\\n",
    "-o ../analyses/HIPP-DR.vcf.gz"
   ]
  },
  {
   "cell_type": "markdown",
   "metadata": {},
   "source": [
    "#### Now repeat with MICPACI"
   ]
  },
  {
   "cell_type": "code",
   "execution_count": 30,
   "metadata": {},
   "outputs": [
    {
     "name": "stderr",
     "output_type": "stream",
     "text": [
      "[bam_sort_core] merging from 14 files and 1 in-memory blocks...\n"
     ]
    }
   ],
   "source": [
    "%%bash\n",
    "# Convert SAM to sorted BAM\n",
    "samtools view -bS ../analyses/MICPACI-DR.sam \\\n",
    "| samtools sort -o ../analyses/MICPACI-DR.sorted.bam -\n",
    "\n",
    "# Create BAM index file\n",
    "samtools index ../analyses/MICPACI-DR.sorted.bam"
   ]
  },
  {
   "cell_type": "code",
   "execution_count": 31,
   "metadata": {},
   "outputs": [
    {
     "name": "stderr",
     "output_type": "stream",
     "text": [
      "[warning] samtools mpileup option `v` is functional, but deprecated. Please switch to using bcftools mpileup in future.\n",
      "[mpileup] 1 samples in 1 input files\n"
     ]
    }
   ],
   "source": [
    "%%bash\n",
    "samtools mpileup --VCF --no-BAQ \\\n",
    "--fasta-ref ../data/Danio_rerio.GRCz11.dna_sm.toplevel.fa \\\n",
    "../analyses/MICPACI-DR.sorted.bam \\\n",
    "-o ../analyses/MICPACI-DR.vcf.gz"
   ]
  },
  {
   "cell_type": "markdown",
   "metadata": {},
   "source": [
    "### Now I have .vcf.gz files for both of my species. Next I will use bcfcalls to call certain sites as variant or not."
   ]
  },
  {
   "cell_type": "code",
   "execution_count": 3,
   "metadata": {},
   "outputs": [
    {
     "name": "stdout",
     "output_type": "stream",
     "text": [
      "Note: none of --samples-file, --ploidy or --ploidy-file given, assuming all sites are diploid\n"
     ]
    }
   ],
   "source": [
    "!bcftools call -v -m ../analyses/HIPP-DR.vcf.gz > ../analyses/HIPP-DR_calls.vcf.gz"
   ]
  },
  {
   "cell_type": "code",
   "execution_count": 4,
   "metadata": {},
   "outputs": [
    {
     "name": "stdout",
     "output_type": "stream",
     "text": [
      "Note: none of --samples-file, --ploidy or --ploidy-file given, assuming all sites are diploid\n"
     ]
    }
   ],
   "source": [
    "!bcftools call -v -m ../analyses/MICPACI-DR.vcf.gz > ../analyses/MICPACI_calls.vcf.gz"
   ]
  },
  {
   "cell_type": "code",
   "execution_count": 5,
   "metadata": {},
   "outputs": [
    {
     "name": "stdout",
     "output_type": "stream",
     "text": [
      "#CHROM\tPOS\tREF\tALT\tQUAL\tINFO\tFORMAT\t../analyses/HIPP-DR.sorted.bam\n",
      "6\t26832552\tA\tG\t7.30814\tDP=1\tGT:PL\t1/1:36,3,0\n",
      "6\t26832565\tA\tG\t7.30814\tDP=1\tGT:PL\t1/1:36,3,0\n",
      "6\t26832646\tC\tG\t7.30814\tDP=1\tGT:PL\t1/1:36,3,0\n",
      "6\t26832648\tC\tT\t4.38466\tDP=1\tGT:PL\t1/1:32,3,0\n",
      "6\t26832669\tC\tG\t7.30814\tDP=1\tGT:PL\t1/1:36,3,0\n",
      "6\t26832738\tT\tC\t7.30814\tDP=1\tGT:PL\t1/1:36,3,0\n",
      "6\t26832739\tC\tG\t7.30814\tDP=1\tGT:PL\t1/1:36,3,0\n",
      "17\t53337855\tC\tG\t5.06224\tDP=7996\tGT:PL\t1/1:30,255,0\n",
      "17\t53337874\tA\tG\t3.78137\tDP=8001\tGT:PL\t1/1:31,255,0\n",
      "17\t53337876\tC\tG\t5.06187\tDP=8001\tGT:PL\t1/1:30,255,0\n",
      "17\t53337891\tG\tC\t5.06314\tDP=8000\tGT:PL\t1/1:30,255,0\n",
      "17\t53337892\tG\tC\t3.78413\tDP=8000\tGT:PL\t1/1:31,255,0\n",
      "17\t53337894\tG\tC\t5.04505\tDP=8000\tGT:PL\t1/1:30,255,0\n",
      "17\t53337897\tA\tC\t5.76949\tDP=7956\tGT:PL\t1/1:31,255,0\n",
      "17\t53337900\tA\tC\t5.76672\tDP=7856\tGT:PL\t1/1:31,255,0\n",
      "17\t53337909\tG\tT\t5.77394\tDP=8000\tGT:PL\t1/1:31,255,0\n",
      "17\t53337911\tC\tA\t5.05379\tDP=7999\tGT:PL\t1/1:30,255,0\n",
      "17\t53337918\tG\tA\t5.76917\tDP=8000\tGT:PL\t1/1:31,255,0\n",
      "17\t53337921\tC\tG\t5.77355\tDP=7999\tGT:PL\t1/1:31,255,0\n",
      "17\t53337945\tT\tG\t5.76957\tDP=8000\tGT:PL\t1/1:31,255,0\n",
      "17\t53338120\tG\tA\t5.05811\tDP=8009\tGT:PL\t1/1:30,255,0\n",
      "17\t53338150\tG\tA\t3.78137\tDP=1616\tGT:PL\t1/1:31,255,0\n",
      "17\t53338176\tT\tA\t5.04755\tDP=1624\tGT:PL\t1/1:30,255,0\n",
      "KN149691.1\t219891\tC\tA\t8.80265\tDP=6\tGT:PL\t1/1:35,6,0\n",
      "KN149691.1\t219899\tG\tA\t8.99921\tDP=13\tGT:PL\t1/1:38,33,0\n"
     ]
    }
   ],
   "source": [
    "!zgrep \"^##\" -v ../analyses/HIPP-DR_calls.vcf.gz | \\\n",
    "awk 'BEGIN{OFS=\"\\t\"} {split($8, a, \";\"); print $1,$2,$4,$5,$6,a[1],$9,$10}'"
   ]
  },
  {
   "cell_type": "code",
   "execution_count": 7,
   "metadata": {},
   "outputs": [
    {
     "name": "stdout",
     "output_type": "stream",
     "text": [
      "#CHROM\tPOS\tREF\tALT\tQUAL\tINFO\tFORMAT\t../analyses/MICPACI-DR.sorted.bam\n",
      "17\t53338219\tT\tA\t3.22451\tDP=22\tGT:PL\t1/1:30,66,0\n",
      "17\t53338241\tC\tT\t3.22451\tDP=22\tGT:PL\t1/1:30,66,0\n"
     ]
    }
   ],
   "source": [
    "!zgrep \"^##\" -v ../analyses/MICPACI_calls.vcf.gz | \\\n",
    "awk 'BEGIN{OFS=\"\\t\"} {split($8, a, \";\"); print $1,$2,$4,$5,$6,a[1],$9,$10}'"
   ]
  },
  {
   "cell_type": "code",
   "execution_count": null,
   "metadata": {},
   "outputs": [],
   "source": []
  }
 ],
 "metadata": {
  "kernelspec": {
   "display_name": "Python 3",
   "language": "python",
   "name": "python3"
  },
  "language_info": {
   "codemirror_mode": {
    "name": "ipython",
    "version": 3
   },
   "file_extension": ".py",
   "mimetype": "text/x-python",
   "name": "python",
   "nbconvert_exporter": "python",
   "pygments_lexer": "ipython3",
   "version": "3.8.5"
  }
 },
 "nbformat": 4,
 "nbformat_minor": 4
}
