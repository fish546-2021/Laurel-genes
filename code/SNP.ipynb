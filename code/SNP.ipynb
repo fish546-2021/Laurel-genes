{
 "cells": [
  {
   "cell_type": "markdown",
   "metadata": {},
   "source": [
    "## Calling SNPs "
   ]
  },
  {
   "cell_type": "markdown",
   "metadata": {},
   "source": [
    "### Using samtools mpileup "
   ]
  },
  {
   "cell_type": "markdown",
   "metadata": {},
   "source": [
    "#### First I need to convert my SAM alignment files to BAM files. Then sort and index an la "
   ]
  },
  {
   "cell_type": "code",
   "execution_count": 10,
   "metadata": {},
   "outputs": [
    {
     "name": "stdout",
     "output_type": "stream",
     "text": [
      "/Users/laurelnave-powers/Desktop/GitHub/Laurel-genes/data\n"
     ]
    }
   ],
   "source": [
    "!pwd"
   ]
  },
  {
   "cell_type": "code",
   "execution_count": 12,
   "metadata": {},
   "outputs": [
    {
     "name": "stdout",
     "output_type": "stream",
     "text": [
      "/Applications/bioinfo/samtools1.11/bin\n"
     ]
    }
   ],
   "source": [
    "cd /Applications/bioinfo/samtools1.11/bin"
   ]
  },
  {
   "cell_type": "code",
   "execution_count": 14,
   "metadata": {},
   "outputs": [
    {
     "name": "stdout",
     "output_type": "stream",
     "text": [
      "\u001b[31mace2sam\u001b[m\u001b[m               \u001b[31mmd5fa\u001b[m\u001b[m                 \u001b[31msamtools\u001b[m\u001b[m\n",
      "\u001b[31mblast2sam.pl\u001b[m\u001b[m          \u001b[31mmd5sum-lite\u001b[m\u001b[m           \u001b[31msamtools.pl\u001b[m\u001b[m\n",
      "\u001b[31mbowtie2sam.pl\u001b[m\u001b[m         \u001b[31mnovo2sam.pl\u001b[m\u001b[m           \u001b[31mseq_cache_populate.pl\u001b[m\u001b[m\n",
      "\u001b[31mexport2sam.pl\u001b[m\u001b[m         \u001b[31mplot-ampliconstats\u001b[m\u001b[m    \u001b[31msoap2sam.pl\u001b[m\u001b[m\n",
      "\u001b[31minterpolate_sam.pl\u001b[m\u001b[m    \u001b[31mplot-bamstats\u001b[m\u001b[m         \u001b[31mwgsim\u001b[m\u001b[m\n",
      "\u001b[31mmaq2sam-long\u001b[m\u001b[m          \u001b[31mpsl2sam.pl\u001b[m\u001b[m            \u001b[31mwgsim_eval.pl\u001b[m\u001b[m\n",
      "\u001b[31mmaq2sam-short\u001b[m\u001b[m         \u001b[31msam2vcf.pl\u001b[m\u001b[m            \u001b[31mzoom2sam.pl\u001b[m\u001b[m\n"
     ]
    }
   ],
   "source": [
    "! ls"
   ]
  },
  {
   "cell_type": "code",
   "execution_count": 16,
   "metadata": {},
   "outputs": [
    {
     "name": "stdout",
     "output_type": "stream",
     "text": [
      "zsh:1: command not found: samtools\n"
     ]
    }
   ],
   "source": [
    "!samtools"
   ]
  },
  {
   "cell_type": "markdown",
   "metadata": {},
   "source": [
    "This makes no sense I am looking at samtools in this directory"
   ]
  },
  {
   "cell_type": "code",
   "execution_count": 9,
   "metadata": {},
   "outputs": [
    {
     "name": "stdout",
     "output_type": "stream",
     "text": [
      "zsh:1: command not found: samtools\n",
      "[main] unrecognized command 'samtools'\n"
     ]
    }
   ],
   "source": [
    "!/Applications/bioinfo/samtools1.11/bin/samtools \\\n",
    "samtools view -bS ../analyses/HIPP-DR.sam | samtools sort -o ../analyses/HIPP-DR.bam samtools index ../analyses/HIPP-DR.bam"
   ]
  },
  {
   "cell_type": "markdown",
   "metadata": {},
   "source": [
    "#### Then I need to mpileup the la "
   ]
  },
  {
   "cell_type": "code",
   "execution_count": null,
   "metadata": {},
   "outputs": [],
   "source": [
    "!/Applications/bioinfo/samtools1.11/bin/samtools \\\n",
    "samtools mpileup --VCF --no-BAQ \\\n",
    "--fasta-ref Danio_rerio.GRCz11.dna_sm.toplevel.fa.gz \\\n",
    "../analyses/HIPP-DR.bam \\\n",
    "-o ../analyses/HIPP-DR.vcf.gz"
   ]
  }
 ],
 "metadata": {
  "kernelspec": {
   "display_name": "Python 3",
   "language": "python",
   "name": "python3"
  },
  "language_info": {
   "codemirror_mode": {
    "name": "ipython",
    "version": 3
   },
   "file_extension": ".py",
   "mimetype": "text/x-python",
   "name": "python",
   "nbconvert_exporter": "python",
   "pygments_lexer": "ipython3",
   "version": "3.8.5"
  }
 },
 "nbformat": 4,
 "nbformat_minor": 4
}
