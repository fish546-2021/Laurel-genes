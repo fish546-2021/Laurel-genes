{
 "cells": [
  {
   "cell_type": "markdown",
   "metadata": {},
   "source": [
    "## Running Blast in Jupyter"
   ]
  },
  {
   "cell_type": "markdown",
   "metadata": {},
   "source": [
    "## Get the Query file (unknowns)"
   ]
  },
  {
   "cell_type": "code",
   "execution_count": 30,
   "metadata": {},
   "outputs": [
    {
     "name": "stdout",
     "output_type": "stream",
     "text": [
      "  % Total    % Received % Xferd  Average Speed   Time    Time     Time  Current\n",
      "                                 Dload  Upload   Total   Spent    Left  Speed\n",
      "100 1982k  100 1982k    0     0   677k      0  0:00:02  0:00:02 --:--:--  677k\n"
     ]
    }
   ],
   "source": [
    "#getting the file from online to a local location\n",
    "!curl https://eagle.fish.washington.edu/cnidarian/Ab_4denovo_CLC6_a.fa \\\n",
    "> ../data/Ab_4denovo_CLC6_a.fa"
   ]
  },
  {
   "cell_type": "code",
   "execution_count": 31,
   "metadata": {},
   "outputs": [
    {
     "name": "stdout",
     "output_type": "stream",
     "text": [
      "Ab_4denovo_CLC6_a.fa\n"
     ]
    }
   ],
   "source": [
    "#list what is in here, the name of the file\n",
    "!ls ../data/"
   ]
  },
  {
   "cell_type": "code",
   "execution_count": 32,
   "metadata": {},
   "outputs": [
    {
     "name": "stdout",
     "output_type": "stream",
     "text": [
      ">solid0078_20110412_FRAG_BC_WHITE_WHITE_F3_QV_SE_trimmed_contig_1\n",
      "ACACCCCACCCCAACGCACCCTCACCCCCACCCCAACAATCCATGATTGAATACTTCATC\n",
      "TATCCAAGACAAACTCCTCCTACAATCCATGATAGAATTCCTCCAAAAATAATTTCACAC\n",
      "TGAAACTCCGGTATCCGAGTTATTTTGTTCCCAGTAAAATGGCATCAACAAAAGTAGGTC\n",
      "TGGATTAACGAACCAATGTTGCTGCGTAATATCCCATTGACATATCTTGTCGATTCCTAC\n",
      "CAGGATCCGGACTGACGAGATTTCACTGTACGTTTATGCAAGTCATTTCCATATATAAAA\n",
      "TTGGATCTTATTTGCACAGTTAAATGTCTCTATGCTTATTTATAAATCAATGCCCGTAAG\n",
      "CTCCTAATATTTCTCTTTTCGTCCGACGAGCAAACAGTGAGTTTACTGTGGCCTTCAGCA\n",
      "AAAGTATTGATGTTGTAAATCTCAGTTGTGATTGAACAATTTGCCTCACTAGAAGTAGCC\n",
      "TTC\n"
     ]
    }
   ],
   "source": [
    "#look at the first bit of the data\n",
    "!head ../data/Ab_4denovo_CLC6_a.fa"
   ]
  },
  {
   "cell_type": "markdown",
   "metadata": {},
   "source": [
    "## Get Protein fasta to create database"
   ]
  },
  {
   "cell_type": "code",
   "execution_count": 33,
   "metadata": {},
   "outputs": [
    {
     "name": "stdout",
     "output_type": "stream",
     "text": [
      "  % Total    % Received % Xferd  Average Speed   Time    Time     Time  Current\n",
      "                                 Dload  Upload   Total   Spent    Left  Speed\n",
      "100 85.6M  100 85.6M    0     0  1386k      0  0:01:03  0:01:03 --:--:-- 1915k  0:00:35  0:00:35 1675k\n"
     ]
    }
   ],
   "source": [
    "#download the Uniprot data and place it in the data folder\n",
    "!curl \\\n",
    "ftp://ftp.uniprot.org/pub/databases/uniprot/current_release/knowledgebase/complete/uniprot_sprot.fasta.gz \\\n",
    "> ../blastdb/uniprot_sprot.fasta.gz"
   ]
  },
  {
   "cell_type": "code",
   "execution_count": null,
   "metadata": {},
   "outputs": [],
   "source": [
    "#to unzip the file \n",
    "!gunzip -k ../blastdb/uniprot_sprot.fasta.gz"
   ]
  },
  {
   "cell_type": "code",
   "execution_count": null,
   "metadata": {},
   "outputs": [],
   "source": [
    "#list what is in the folder\n",
    "!ls ../blastdb/"
   ]
  },
  {
   "cell_type": "markdown",
   "metadata": {},
   "source": [
    "## Make BlastDB (need to install software first)"
   ]
  },
  {
   "cell_type": "code",
   "execution_count": 1,
   "metadata": {},
   "outputs": [],
   "source": [
    "#setting blast program directory\n",
    "bldir = \"/Applications/bioinfo/ncbi-blast-2.11.0+/bin/\""
   ]
  },
  {
   "cell_type": "code",
   "execution_count": 2,
   "metadata": {},
   "outputs": [
    {
     "name": "stdout",
     "output_type": "stream",
     "text": [
      "USAGE\n",
      "  blastx [-h] [-help] [-import_search_strategy filename]\n",
      "    [-export_search_strategy filename] [-task task_name] [-db database_name]\n",
      "    [-dbsize num_letters] [-gilist filename] [-seqidlist filename]\n",
      "    [-negative_gilist filename] [-negative_seqidlist filename]\n",
      "    [-taxids taxids] [-negative_taxids taxids] [-taxidlist filename]\n",
      "    [-negative_taxidlist filename] [-ipglist filename]\n",
      "    [-negative_ipglist filename] [-entrez_query entrez_query]\n",
      "    [-db_soft_mask filtering_algorithm] [-db_hard_mask filtering_algorithm]\n",
      "    [-subject subject_input_file] [-subject_loc range] [-query input_file]\n",
      "    [-out output_file] [-evalue evalue] [-word_size int_value]\n",
      "    [-gapopen open_penalty] [-gapextend extend_penalty]\n",
      "    [-qcov_hsp_perc float_value] [-max_hsps int_value]\n",
      "    [-xdrop_ungap float_value] [-xdrop_gap float_value]\n",
      "    [-xdrop_gap_final float_value] [-searchsp int_value]\n",
      "    [-sum_stats bool_value] [-max_intron_length length] [-seg SEG_options]\n",
      "    [-soft_masking soft_masking] [-matrix matrix_name]\n",
      "    [-threshold float_value] [-culling_limit int_value]\n",
      "    [-best_hit_overhang float_value] [-best_hit_score_edge float_value]\n",
      "    [-subject_besthit] [-window_size int_value] [-ungapped] [-lcase_masking]\n",
      "    [-query_loc range] [-strand strand] [-parse_deflines]\n",
      "    [-query_gencode int_value] [-outfmt format] [-show_gis]\n",
      "    [-num_descriptions int_value] [-num_alignments int_value]\n",
      "    [-line_length line_length] [-html] [-sorthits sort_hits]\n",
      "    [-sorthsps sort_hsps] [-max_target_seqs num_sequences]\n",
      "    [-num_threads int_value] [-remote] [-comp_based_stats compo]\n",
      "    [-use_sw_tback] [-version]\n",
      "\n",
      "DESCRIPTION\n",
      "   Translated Query-Protein Subject BLAST 2.11.0+\n",
      "\n",
      "Use '-help' to print detailed descriptions of command line arguments\n"
     ]
    }
   ],
   "source": [
    "#checking it is there, showing how file path is working\n",
    "!{bldir}blastx -h"
   ]
  },
  {
   "cell_type": "code",
   "execution_count": 3,
   "metadata": {},
   "outputs": [
    {
     "name": "stdout",
     "output_type": "stream",
     "text": [
      "\u001b[31mblast_formatter\u001b[m\u001b[m            \u001b[31mlegacy_blast.pl\u001b[m\u001b[m\n",
      "\u001b[31mblastdb_aliastool\u001b[m\u001b[m          \u001b[31mmakeblastdb\u001b[m\u001b[m\n",
      "\u001b[31mblastdbcheck\u001b[m\u001b[m               \u001b[31mmakembindex\u001b[m\u001b[m\n",
      "\u001b[31mblastdbcmd\u001b[m\u001b[m                 \u001b[31mmakeprofiledb\u001b[m\u001b[m\n",
      "\u001b[31mblastn\u001b[m\u001b[m                     \u001b[31mpsiblast\u001b[m\u001b[m\n",
      "\u001b[31mblastp\u001b[m\u001b[m                     \u001b[31mrpsblast\u001b[m\u001b[m\n",
      "\u001b[31mblastx\u001b[m\u001b[m                     \u001b[31mrpstblastn\u001b[m\u001b[m\n",
      "\u001b[31mcleanup-blastdb-volumes.py\u001b[m\u001b[m \u001b[31msegmasker\u001b[m\u001b[m\n",
      "\u001b[31mconvert2blastmask\u001b[m\u001b[m          \u001b[31mtblastn\u001b[m\u001b[m\n",
      "\u001b[31mdeltablast\u001b[m\u001b[m                 \u001b[31mtblastx\u001b[m\u001b[m\n",
      "\u001b[31mdustmasker\u001b[m\u001b[m                 \u001b[31mupdate_blastdb.pl\u001b[m\u001b[m\n",
      "\u001b[31mget_species_taxids.sh\u001b[m\u001b[m      \u001b[31mwindowmasker\u001b[m\u001b[m\n"
     ]
    }
   ],
   "source": [
    "#list what is in this folder\n",
    "!ls /Applications/bioinfo/ncbi-blast-2.11.0+/bin"
   ]
  },
  {
   "cell_type": "code",
   "execution_count": 4,
   "metadata": {},
   "outputs": [
    {
     "name": "stdout",
     "output_type": "stream",
     "text": [
      "\n",
      "\n",
      "Building a new DB, current time: 01/20/2021 16:17:55\n",
      "New DB name:   /Users/laurelnave-powers/Desktop/miniconda3/bin/blastdb/uniprot_sprot_2021\n",
      "New DB title:  ../blastdb/uniprot_sprot.fasta\n",
      "Sequence type: Protein\n",
      "Deleted existing Protein BLAST database named /Users/laurelnave-powers/Desktop/miniconda3/bin/blastdb/uniprot_sprot_2021\n",
      "Keep MBits: T\n",
      "Maximum file size: 1000000000B\n",
      "Adding sequences from FASTA; added 563972 sequences in 15.5815 seconds.\n",
      "\n",
      "\n"
     ]
    }
   ],
   "source": [
    "#appending the version number to the database\n",
    "!{bldir}makeblastdb \\\n",
    "-in ../blastdb/uniprot_sprot.fasta \\\n",
    "-dbtype prot \\\n",
    "-out ../blastdb/uniprot_sprot_2021"
   ]
  },
  {
   "cell_type": "markdown",
   "metadata": {},
   "source": [
    "## Run Blastx"
   ]
  },
  {
   "cell_type": "code",
   "execution_count": null,
   "metadata": {},
   "outputs": [
    {
     "name": "stdout",
     "output_type": "stream",
     "text": [
      "Warning: [blastx] Examining 5 or more matches is recommended\n"
     ]
    }
   ],
   "source": [
    "#run blastx\n",
    "!{bldir}blastx \\\n",
    "-query ../data/Ab_4denovo_CLC6_a.fa \\\n",
    "-db ../blastdb/uniprot_sprot_2021 \\\n",
    "-out ../analyses/Ab_4-uniprot_blastx.tab \\\n",
    "-evalue 1E-20 \\\n",
    "-num_threads 4 \\\n",
    "-max_target_seqs 1 \\\n",
    "-outfmt 6"
   ]
  },
  {
   "cell_type": "code",
   "execution_count": null,
   "metadata": {},
   "outputs": [],
   "source": [
    "#to look at the beginning of the data\n",
    "!head ../analyses/Ab_4-uniprot_blastx.tab"
   ]
  },
  {
   "cell_type": "code",
   "execution_count": 7,
   "metadata": {},
   "outputs": [
    {
     "name": "stdout",
     "output_type": "stream",
     "text": [
      "wc: ../analyses/Ab_4-uniprot_blastx.tab: open: No such file or directory\n"
     ]
    }
   ],
   "source": [
    "#to see how many blast hits\n",
    "!wc -l ../analyses/Ab_4-uniprot_blastx.tab"
   ]
  },
  {
   "cell_type": "code",
   "execution_count": null,
   "metadata": {},
   "outputs": [],
   "source": []
  }
 ],
 "metadata": {
  "kernelspec": {
   "display_name": "Python 3",
   "language": "python",
   "name": "python3"
  },
  "language_info": {
   "codemirror_mode": {
    "name": "ipython",
    "version": 3
   },
   "file_extension": ".py",
   "mimetype": "text/x-python",
   "name": "python",
   "nbconvert_exporter": "python",
   "pygments_lexer": "ipython3",
   "version": "3.8.5"
  }
 },
 "nbformat": 4,
 "nbformat_minor": 4
}
