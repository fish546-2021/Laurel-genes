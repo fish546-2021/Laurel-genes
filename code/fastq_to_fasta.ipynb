{
 "cells": [
  {
   "cell_type": "markdown",
   "metadata": {},
   "source": [
    "This is just to unzip my data again "
   ]
  },
  {
   "cell_type": "code",
   "execution_count": 4,
   "metadata": {},
   "outputs": [
    {
     "name": "stdout",
     "output_type": "stream",
     "text": [
      "/Users/laurelnave-powers/Desktop/GitHub/Laurel-genes\n"
     ]
    }
   ],
   "source": [
    "!pwd"
   ]
  },
  {
   "cell_type": "code",
   "execution_count": 5,
   "metadata": {},
   "outputs": [
    {
     "name": "stdout",
     "output_type": "stream",
     "text": [
      "/Users/laurelnave-powers/Desktop/GitHub/Laurel-genes/data/raw\n"
     ]
    }
   ],
   "source": [
    "cd /Users/laurelnave-powers/Desktop/GitHub/Laurel-genes/data/raw"
   ]
  },
  {
   "cell_type": "code",
   "execution_count": 6,
   "metadata": {},
   "outputs": [
    {
     "name": "stdout",
     "output_type": "stream",
     "text": [
      "\u001b[31mHIPPLAT_NEF95054_S2_R1.fastq\u001b[m\u001b[m    \u001b[31mMICPACI_UW157426_S7_R1.fastq\u001b[m\u001b[m\n",
      "\u001b[31mHIPPLAT_NEF95054_S2_R1.fastq.gz\u001b[m\u001b[m \u001b[31mMICPACI_UW157426_S7_R1.fastq.gz\u001b[m\u001b[m\n",
      "\u001b[31mHIPPLAT_NEF95054_S2_R2.fastq\u001b[m\u001b[m    \u001b[31mMICPACI_UW157426_S7_R2.fastq\u001b[m\u001b[m\n",
      "\u001b[31mHIPPLAT_NEF95054_S2_R2.fastq.gz\u001b[m\u001b[m \u001b[31mMICPACI_UW157426_S7_R2.fastq.gz\u001b[m\u001b[m\n"
     ]
    }
   ],
   "source": [
    "!ls"
   ]
  },
  {
   "cell_type": "code",
   "execution_count": 5,
   "metadata": {},
   "outputs": [],
   "source": [
    "!gunzip -k HIPPLAT_NEF95054_S2_R1.fastq.gz"
   ]
  },
  {
   "cell_type": "code",
   "execution_count": 6,
   "metadata": {},
   "outputs": [
    {
     "name": "stdout",
     "output_type": "stream",
     "text": [
      "\u001b[31mHIPPLAT_NEF95054_S2_R1.fastq\u001b[m\u001b[m    \u001b[31mMICPACI_UW157426_S7_R1.fastq.gz\u001b[m\u001b[m\n",
      "\u001b[31mHIPPLAT_NEF95054_S2_R1.fastq.gz\u001b[m\u001b[m \u001b[31mMICPACI_UW157426_S7_R2.fastq.gz\u001b[m\u001b[m\n",
      "\u001b[31mHIPPLAT_NEF95054_S2_R2.fastq.gz\u001b[m\u001b[m\n"
     ]
    }
   ],
   "source": [
    "!ls"
   ]
  },
  {
   "cell_type": "code",
   "execution_count": 7,
   "metadata": {},
   "outputs": [],
   "source": [
    "!gunzip -k HIPPLAT_NEF95054_S2_R2.fastq.gz"
   ]
  },
  {
   "cell_type": "code",
   "execution_count": 8,
   "metadata": {},
   "outputs": [],
   "source": [
    "!gunzip -k MICPACI_UW157426_S7_R1.fastq.gz"
   ]
  },
  {
   "cell_type": "code",
   "execution_count": 9,
   "metadata": {},
   "outputs": [],
   "source": [
    "!gunzip -k MICPACI_UW157426_S7_R2.fastq.gz"
   ]
  },
  {
   "cell_type": "code",
   "execution_count": 10,
   "metadata": {},
   "outputs": [
    {
     "name": "stdout",
     "output_type": "stream",
     "text": [
      "\u001b[31mHIPPLAT_NEF95054_S2_R1.fastq\u001b[m\u001b[m    \u001b[31mMICPACI_UW157426_S7_R1.fastq\u001b[m\u001b[m\n",
      "\u001b[31mHIPPLAT_NEF95054_S2_R1.fastq.gz\u001b[m\u001b[m \u001b[31mMICPACI_UW157426_S7_R1.fastq.gz\u001b[m\u001b[m\n",
      "\u001b[31mHIPPLAT_NEF95054_S2_R2.fastq\u001b[m\u001b[m    \u001b[31mMICPACI_UW157426_S7_R2.fastq\u001b[m\u001b[m\n",
      "\u001b[31mHIPPLAT_NEF95054_S2_R2.fastq.gz\u001b[m\u001b[m \u001b[31mMICPACI_UW157426_S7_R2.fastq.gz\u001b[m\u001b[m\n"
     ]
    }
   ],
   "source": [
    "!ls"
   ]
  },
  {
   "cell_type": "markdown",
   "metadata": {},
   "source": [
    "Now I am trying to convert my fastq files to fasta files so I can use IGV"
   ]
  },
  {
   "cell_type": "code",
   "execution_count": 1,
   "metadata": {},
   "outputs": [
    {
     "name": "stdout",
     "output_type": "stream",
     "text": [
      "seqtk not found\n"
     ]
    }
   ],
   "source": [
    "!which seqtk"
   ]
  },
  {
   "cell_type": "code",
   "execution_count": 2,
   "metadata": {},
   "outputs": [
    {
     "name": "stdout",
     "output_type": "stream",
     "text": [
      "zsh:1: command not found: seqtk\n"
     ]
    }
   ],
   "source": [
    "!seqtk seq -A HIPPLAT_NEF95054_S2_R1.fastq > HIPPLAT_NEF95054_S2_R1.fasta"
   ]
  },
  {
   "cell_type": "markdown",
   "metadata": {},
   "source": [
    "That didnt work, lets try what Yaamini suggested:"
   ]
  },
  {
   "cell_type": "code",
   "execution_count": 7,
   "metadata": {},
   "outputs": [
    {
     "name": "stdout",
     "output_type": "stream",
     "text": [
      "zcat: can't stat: HIPPLAT_NEF95054_S2_R1.fastq.gz (HIPPLAT_NEF95054_S2_R1.fastq.gz.Z): No such file or directory\n"
     ]
    }
   ],
   "source": [
    "!zcat HIPPLAT_NEF95054_S2_R1.fastq.gz | awk 'NR%4==1{printf \">%s\\n\", substr($0,2)}NR%4==2{print}' > HIPPLAT_NEF95054_S2_R1.fa"
   ]
  },
  {
   "cell_type": "code",
   "execution_count": 8,
   "metadata": {},
   "outputs": [
    {
     "name": "stdout",
     "output_type": "stream",
     "text": [
      "/Users/laurelnave-powers/Desktop/GitHub/Laurel-genes/data/raw\n"
     ]
    }
   ],
   "source": [
    "!pwd"
   ]
  },
  {
   "cell_type": "code",
   "execution_count": 9,
   "metadata": {},
   "outputs": [
    {
     "name": "stdout",
     "output_type": "stream",
     "text": [
      "HIPPLAT_NEF95054_S2_R1.fa       \u001b[31mMICPACI_UW157426_S7_R1.fastq\u001b[m\u001b[m\n",
      "\u001b[31mHIPPLAT_NEF95054_S2_R1.fastq\u001b[m\u001b[m    \u001b[31mMICPACI_UW157426_S7_R1.fastq.gz\u001b[m\u001b[m\n",
      "\u001b[31mHIPPLAT_NEF95054_S2_R1.fastq.gz\u001b[m\u001b[m \u001b[31mMICPACI_UW157426_S7_R2.fastq\u001b[m\u001b[m\n",
      "\u001b[31mHIPPLAT_NEF95054_S2_R2.fastq\u001b[m\u001b[m    \u001b[31mMICPACI_UW157426_S7_R2.fastq.gz\u001b[m\u001b[m\n",
      "\u001b[31mHIPPLAT_NEF95054_S2_R2.fastq.gz\u001b[m\u001b[m\n"
     ]
    }
   ],
   "source": [
    "!ls"
   ]
  },
  {
   "cell_type": "code",
   "execution_count": 16,
   "metadata": {},
   "outputs": [
    {
     "name": "stdout",
     "output_type": "stream",
     "text": [
      "/Users/laurelnave-powers/Desktop/GitHub/Laurel-genes/data/raw\n"
     ]
    }
   ],
   "source": [
    "cd /Users/laurelnave-powers/Desktop/GitHub/Laurel-genes/data/raw"
   ]
  },
  {
   "cell_type": "code",
   "execution_count": 17,
   "metadata": {},
   "outputs": [
    {
     "name": "stdout",
     "output_type": "stream",
     "text": [
      "zcat: can't stat: HIPPLAT_NEF95054_S2_R2.fastq.gz (HIPPLAT_NEF95054_S2_R2.fastq.gz.Z): No such file or directory\n"
     ]
    }
   ],
   "source": [
    "!zcat HIPPLAT_NEF95054_S2_R2.fastq.gz | awk 'NR%4==1{printf \">%s\\n\", substr($0,2)}NR%4==2{print}' > HIPPLAT_NEF95054_S2_R2.fa"
   ]
  },
  {
   "cell_type": "code",
   "execution_count": 18,
   "metadata": {},
   "outputs": [
    {
     "name": "stdout",
     "output_type": "stream",
     "text": [
      "HIPPLAT_NEF95054_S2_R1.fa       \u001b[31mHIPPLAT_NEF95054_S2_R2.fastq.gz\u001b[m\u001b[m\n",
      "\u001b[31mHIPPLAT_NEF95054_S2_R1.fastq\u001b[m\u001b[m    \u001b[31mMICPACI_UW157426_S7_R1.fastq\u001b[m\u001b[m\n",
      "\u001b[31mHIPPLAT_NEF95054_S2_R1.fastq.gz\u001b[m\u001b[m \u001b[31mMICPACI_UW157426_S7_R1.fastq.gz\u001b[m\u001b[m\n",
      "HIPPLAT_NEF95054_S2_R2.fa       \u001b[31mMICPACI_UW157426_S7_R2.fastq\u001b[m\u001b[m\n",
      "\u001b[31mHIPPLAT_NEF95054_S2_R2.fastq\u001b[m\u001b[m    \u001b[31mMICPACI_UW157426_S7_R2.fastq.gz\u001b[m\u001b[m\n"
     ]
    }
   ],
   "source": [
    "!ls"
   ]
  },
  {
   "cell_type": "markdown",
   "metadata": {},
   "source": [
    "This seems to have created an empty .fa file. It can be loaded into IGV but since its empty it comes up as blank. \n",
    "So, now I'm going to try to use bowtie to make a sam file. "
   ]
  },
  {
   "cell_type": "code",
   "execution_count": 19,
   "metadata": {},
   "outputs": [
    {
     "name": "stdout",
     "output_type": "stream",
     "text": [
      "AUTHORS                 \u001b[31mbowtie2-align-l\u001b[m\u001b[m         \u001b[31mbowtie2-inspect\u001b[m\u001b[m\n",
      "BOWTIE2_VERSION         \u001b[31mbowtie2-align-l-debug\u001b[m\u001b[m   \u001b[31mbowtie2-inspect-l\u001b[m\u001b[m\n",
      "LICENSE                 \u001b[31mbowtie2-align-s\u001b[m\u001b[m         \u001b[31mbowtie2-inspect-l-debug\u001b[m\u001b[m\n",
      "MANUAL                  \u001b[31mbowtie2-align-s-debug\u001b[m\u001b[m   \u001b[31mbowtie2-inspect-s\u001b[m\u001b[m\n",
      "MANUAL.markdown         \u001b[31mbowtie2-build\u001b[m\u001b[m           \u001b[31mbowtie2-inspect-s-debug\u001b[m\u001b[m\n",
      "NEWS                    \u001b[31mbowtie2-build-l\u001b[m\u001b[m         \u001b[34mdoc\u001b[m\u001b[m\n",
      "README.md               \u001b[31mbowtie2-build-l-debug\u001b[m\u001b[m   \u001b[34mexample\u001b[m\u001b[m\n",
      "TUTORIAL                \u001b[31mbowtie2-build-s\u001b[m\u001b[m         \u001b[34mscripts\u001b[m\u001b[m\n",
      "\u001b[31mbowtie2\u001b[m\u001b[m                 \u001b[31mbowtie2-build-s-debug\u001b[m\u001b[m\n"
     ]
    }
   ],
   "source": [
    "!ls /Users/laurelnave-powers/Desktop/bowtie2-2.4.2-macos-x86_64"
   ]
  },
  {
   "cell_type": "code",
   "execution_count": 20,
   "metadata": {},
   "outputs": [
    {
     "name": "stdout",
     "output_type": "stream",
     "text": [
      "/Users/laurelnave-powers/Desktop\n"
     ]
    }
   ],
   "source": [
    "cd /Users/laurelnave-powers/Desktop"
   ]
  },
  {
   "cell_type": "code",
   "execution_count": null,
   "metadata": {},
   "outputs": [],
   "source": []
  }
 ],
 "metadata": {
  "kernelspec": {
   "display_name": "Python 3",
   "language": "python",
   "name": "python3"
  },
  "language_info": {
   "codemirror_mode": {
    "name": "ipython",
    "version": 3
   },
   "file_extension": ".py",
   "mimetype": "text/x-python",
   "name": "python",
   "nbconvert_exporter": "python",
   "pygments_lexer": "ipython3",
   "version": "3.8.5"
  }
 },
 "nbformat": 4,
 "nbformat_minor": 4
}
