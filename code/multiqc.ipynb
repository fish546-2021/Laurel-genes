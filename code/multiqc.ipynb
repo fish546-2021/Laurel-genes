{
 "cells": [
  {
   "cell_type": "markdown",
   "metadata": {},
   "source": [
    "# Using MultiQC"
   ]
  },
  {
   "cell_type": "markdown",
   "metadata": {},
   "source": [
    "First I need to run fastqc on my files. "
   ]
  },
  {
   "cell_type": "code",
   "execution_count": 18,
   "metadata": {},
   "outputs": [
    {
     "name": "stdout",
     "output_type": "stream",
     "text": [
      "/Users/laurelnave-powers/Desktop\n"
     ]
    }
   ],
   "source": [
    "!pwd"
   ]
  },
  {
   "cell_type": "code",
   "execution_count": 19,
   "metadata": {},
   "outputs": [
    {
     "name": "stdout",
     "output_type": "stream",
     "text": [
      "/Users/laurelnave-powers/Desktop/GitHub/Laurel-genes\n"
     ]
    }
   ],
   "source": [
    "cd /Users/laurelnave-powers/Desktop/GitHub/Laurel-genes"
   ]
  },
  {
   "cell_type": "code",
   "execution_count": 45,
   "metadata": {},
   "outputs": [],
   "source": [
    "# make program executable from command line\n",
    "! chmod u+x /Volumes/FastQC/FastQC.app"
   ]
  },
  {
   "cell_type": "code",
   "execution_count": 50,
   "metadata": {},
   "outputs": [
    {
     "name": "stdout",
     "output_type": "stream",
     "text": [
      "zsh:1: permission denied: /Volumes/FastQC/FastQC.app\n"
     ]
    }
   ],
   "source": [
    "# Run fastqc for all our raw data files and send output to directory just created\n",
    "! /Volumes/FastQC/FastQC.app \\\n",
    "data/raw/*fastq.gz \\\n",
    "-o analyses/fastqc/"
   ]
  },
  {
   "cell_type": "code",
   "execution_count": 38,
   "metadata": {},
   "outputs": [
    {
     "name": "stdout",
     "output_type": "stream",
     "text": [
      "HIPPLAT_NEF95054_S2_R1.fa        \u001b[31mHIPPLAT_NEF95054_S2_R2.fastq\u001b[m\u001b[m\n",
      "HIPPLAT_NEF95054_S2_R1.fasta     \u001b[31mHIPPLAT_NEF95054_S2_R2.fastq.gz\u001b[m\u001b[m\n",
      "HIPPLAT_NEF95054_S2_R1.fasta.fai \u001b[31mMICPACI_UW157426_S7_R1.fastq\u001b[m\u001b[m\n",
      "\u001b[31mHIPPLAT_NEF95054_S2_R1.fastq\u001b[m\u001b[m     \u001b[31mMICPACI_UW157426_S7_R1.fastq.gz\u001b[m\u001b[m\n",
      "\u001b[31mHIPPLAT_NEF95054_S2_R1.fastq.gz\u001b[m\u001b[m  \u001b[31mMICPACI_UW157426_S7_R2.fastq\u001b[m\u001b[m\n",
      "HIPPLAT_NEF95054_S2_R2.fa        \u001b[31mMICPACI_UW157426_S7_R2.fastq.gz\u001b[m\u001b[m\n",
      "HIPPLAT_NEF95054_S2_R2.fa.fai\n"
     ]
    }
   ],
   "source": [
    "!ls data/raw"
   ]
  },
  {
   "cell_type": "markdown",
   "metadata": {},
   "source": [
    "Im trying the fastqc linux download now to see if that works. "
   ]
  },
  {
   "cell_type": "code",
   "execution_count": 51,
   "metadata": {},
   "outputs": [
    {
     "name": "stdout",
     "output_type": "stream",
     "text": [
      "/Users/laurelnave-powers/Desktop/GitHub\n"
     ]
    }
   ],
   "source": [
    "cd ../"
   ]
  },
  {
   "cell_type": "code",
   "execution_count": 52,
   "metadata": {},
   "outputs": [
    {
     "name": "stdout",
     "output_type": "stream",
     "text": [
      "/Users/laurelnave-powers/Desktop\n"
     ]
    }
   ],
   "source": [
    "cd ../"
   ]
  },
  {
   "cell_type": "code",
   "execution_count": 54,
   "metadata": {},
   "outputs": [],
   "source": [
    "! chmod u+x FastQC/fastQC"
   ]
  },
  {
   "cell_type": "code",
   "execution_count": 56,
   "metadata": {},
   "outputs": [
    {
     "name": "stdout",
     "output_type": "stream",
     "text": [
      "/Users/laurelnave-powers/Desktop/GitHub/Laurel-genes\n"
     ]
    }
   ],
   "source": [
    "cd GitHub/Laurel-genes"
   ]
  },
  {
   "cell_type": "code",
   "execution_count": 60,
   "metadata": {},
   "outputs": [
    {
     "name": "stdout",
     "output_type": "stream",
     "text": [
      "Started analysis of HIPPLAT_NEF95054_S2_R1.fastq.gz\n",
      "Approx 5% complete for HIPPLAT_NEF95054_S2_R1.fastq.gz\n",
      "Approx 10% complete for HIPPLAT_NEF95054_S2_R1.fastq.gz\n",
      "Approx 15% complete for HIPPLAT_NEF95054_S2_R1.fastq.gz\n",
      "Approx 20% complete for HIPPLAT_NEF95054_S2_R1.fastq.gz\n",
      "Approx 25% complete for HIPPLAT_NEF95054_S2_R1.fastq.gz\n",
      "Approx 30% complete for HIPPLAT_NEF95054_S2_R1.fastq.gz\n",
      "Approx 35% complete for HIPPLAT_NEF95054_S2_R1.fastq.gz\n",
      "Approx 40% complete for HIPPLAT_NEF95054_S2_R1.fastq.gz\n",
      "Approx 45% complete for HIPPLAT_NEF95054_S2_R1.fastq.gz\n",
      "Approx 50% complete for HIPPLAT_NEF95054_S2_R1.fastq.gz\n",
      "Approx 55% complete for HIPPLAT_NEF95054_S2_R1.fastq.gz\n",
      "Approx 60% complete for HIPPLAT_NEF95054_S2_R1.fastq.gz\n",
      "Approx 65% complete for HIPPLAT_NEF95054_S2_R1.fastq.gz\n",
      "Approx 70% complete for HIPPLAT_NEF95054_S2_R1.fastq.gz\n",
      "Approx 75% complete for HIPPLAT_NEF95054_S2_R1.fastq.gz\n",
      "Approx 80% complete for HIPPLAT_NEF95054_S2_R1.fastq.gz\n",
      "Approx 85% complete for HIPPLAT_NEF95054_S2_R1.fastq.gz\n",
      "Approx 90% complete for HIPPLAT_NEF95054_S2_R1.fastq.gz\n",
      "Approx 95% complete for HIPPLAT_NEF95054_S2_R1.fastq.gz\n",
      "Analysis complete for HIPPLAT_NEF95054_S2_R1.fastq.gz\n",
      "Started analysis of HIPPLAT_NEF95054_S2_R2.fastq.gz\n",
      "Approx 5% complete for HIPPLAT_NEF95054_S2_R2.fastq.gz\n",
      "Approx 10% complete for HIPPLAT_NEF95054_S2_R2.fastq.gz\n",
      "Approx 15% complete for HIPPLAT_NEF95054_S2_R2.fastq.gz\n",
      "Approx 20% complete for HIPPLAT_NEF95054_S2_R2.fastq.gz\n",
      "Approx 25% complete for HIPPLAT_NEF95054_S2_R2.fastq.gz\n",
      "Approx 30% complete for HIPPLAT_NEF95054_S2_R2.fastq.gz\n",
      "Approx 35% complete for HIPPLAT_NEF95054_S2_R2.fastq.gz\n",
      "Approx 40% complete for HIPPLAT_NEF95054_S2_R2.fastq.gz\n",
      "Approx 45% complete for HIPPLAT_NEF95054_S2_R2.fastq.gz\n",
      "Approx 50% complete for HIPPLAT_NEF95054_S2_R2.fastq.gz\n",
      "Approx 55% complete for HIPPLAT_NEF95054_S2_R2.fastq.gz\n",
      "Approx 60% complete for HIPPLAT_NEF95054_S2_R2.fastq.gz\n",
      "Approx 65% complete for HIPPLAT_NEF95054_S2_R2.fastq.gz\n",
      "Approx 70% complete for HIPPLAT_NEF95054_S2_R2.fastq.gz\n",
      "Approx 75% complete for HIPPLAT_NEF95054_S2_R2.fastq.gz\n",
      "Approx 80% complete for HIPPLAT_NEF95054_S2_R2.fastq.gz\n",
      "Approx 85% complete for HIPPLAT_NEF95054_S2_R2.fastq.gz\n",
      "Approx 90% complete for HIPPLAT_NEF95054_S2_R2.fastq.gz\n",
      "Approx 95% complete for HIPPLAT_NEF95054_S2_R2.fastq.gz\n",
      "Analysis complete for HIPPLAT_NEF95054_S2_R2.fastq.gz\n",
      "Started analysis of MICPACI_UW157426_S7_R1.fastq.gz\n",
      "Approx 5% complete for MICPACI_UW157426_S7_R1.fastq.gz\n",
      "Approx 10% complete for MICPACI_UW157426_S7_R1.fastq.gz\n",
      "Approx 15% complete for MICPACI_UW157426_S7_R1.fastq.gz\n",
      "Approx 20% complete for MICPACI_UW157426_S7_R1.fastq.gz\n",
      "Approx 25% complete for MICPACI_UW157426_S7_R1.fastq.gz\n",
      "Approx 30% complete for MICPACI_UW157426_S7_R1.fastq.gz\n",
      "Approx 35% complete for MICPACI_UW157426_S7_R1.fastq.gz\n",
      "Approx 40% complete for MICPACI_UW157426_S7_R1.fastq.gz\n",
      "Approx 45% complete for MICPACI_UW157426_S7_R1.fastq.gz\n",
      "Approx 50% complete for MICPACI_UW157426_S7_R1.fastq.gz\n",
      "Approx 55% complete for MICPACI_UW157426_S7_R1.fastq.gz\n",
      "Approx 60% complete for MICPACI_UW157426_S7_R1.fastq.gz\n",
      "Approx 65% complete for MICPACI_UW157426_S7_R1.fastq.gz\n",
      "Approx 70% complete for MICPACI_UW157426_S7_R1.fastq.gz\n",
      "Approx 75% complete for MICPACI_UW157426_S7_R1.fastq.gz\n",
      "Approx 80% complete for MICPACI_UW157426_S7_R1.fastq.gz\n",
      "Approx 85% complete for MICPACI_UW157426_S7_R1.fastq.gz\n",
      "Approx 90% complete for MICPACI_UW157426_S7_R1.fastq.gz\n",
      "Approx 95% complete for MICPACI_UW157426_S7_R1.fastq.gz\n",
      "Analysis complete for MICPACI_UW157426_S7_R1.fastq.gz\n",
      "Started analysis of MICPACI_UW157426_S7_R2.fastq.gz\n",
      "Approx 5% complete for MICPACI_UW157426_S7_R2.fastq.gz\n",
      "Approx 10% complete for MICPACI_UW157426_S7_R2.fastq.gz\n",
      "Approx 15% complete for MICPACI_UW157426_S7_R2.fastq.gz\n",
      "Approx 20% complete for MICPACI_UW157426_S7_R2.fastq.gz\n",
      "Approx 25% complete for MICPACI_UW157426_S7_R2.fastq.gz\n",
      "Approx 30% complete for MICPACI_UW157426_S7_R2.fastq.gz\n",
      "Approx 35% complete for MICPACI_UW157426_S7_R2.fastq.gz\n",
      "Approx 40% complete for MICPACI_UW157426_S7_R2.fastq.gz\n",
      "Approx 45% complete for MICPACI_UW157426_S7_R2.fastq.gz\n",
      "Approx 50% complete for MICPACI_UW157426_S7_R2.fastq.gz\n",
      "Approx 55% complete for MICPACI_UW157426_S7_R2.fastq.gz\n",
      "Approx 60% complete for MICPACI_UW157426_S7_R2.fastq.gz\n",
      "Approx 65% complete for MICPACI_UW157426_S7_R2.fastq.gz\n",
      "Approx 70% complete for MICPACI_UW157426_S7_R2.fastq.gz\n",
      "Approx 75% complete for MICPACI_UW157426_S7_R2.fastq.gz\n",
      "Approx 80% complete for MICPACI_UW157426_S7_R2.fastq.gz\n",
      "Approx 85% complete for MICPACI_UW157426_S7_R2.fastq.gz\n",
      "Approx 90% complete for MICPACI_UW157426_S7_R2.fastq.gz\n",
      "Approx 95% complete for MICPACI_UW157426_S7_R2.fastq.gz\n",
      "Analysis complete for MICPACI_UW157426_S7_R2.fastq.gz\n"
     ]
    }
   ],
   "source": [
    "# Run fastqc for all our raw data files and send output to directory just created\n",
    "! /Users/laurelnave-powers/Desktop/FastQC/fastQC \\\n",
    "data/raw/*fastq.gz \\\n",
    "-o analyses/fastqc/"
   ]
  },
  {
   "cell_type": "markdown",
   "metadata": {},
   "source": [
    "#### Yay it worked!!! "
   ]
  },
  {
   "cell_type": "markdown",
   "metadata": {},
   "source": [
    "### Now I will do MultiQC"
   ]
  },
  {
   "cell_type": "code",
   "execution_count": 61,
   "metadata": {},
   "outputs": [
    {
     "name": "stdout",
     "output_type": "stream",
     "text": [
      "/Users/laurelnave-powers/Desktop/GitHub/Laurel-genes\n"
     ]
    }
   ],
   "source": [
    "!pwd"
   ]
  },
  {
   "cell_type": "code",
   "execution_count": 62,
   "metadata": {},
   "outputs": [
    {
     "name": "stdout",
     "output_type": "stream",
     "text": [
      "/Users/laurelnave-powers/Desktop/GitHub/Laurel-genes/analyses/fastqc\n"
     ]
    }
   ],
   "source": [
    "cd analyses/fastqc"
   ]
  },
  {
   "cell_type": "code",
   "execution_count": 63,
   "metadata": {},
   "outputs": [
    {
     "name": "stdout",
     "output_type": "stream",
     "text": [
      "HIPPLAT_NEF95054_S2_R1_fastqc.html MICPACI_UW157426_S7_R1_fastqc.html\n",
      "HIPPLAT_NEF95054_S2_R1_fastqc.zip  MICPACI_UW157426_S7_R1_fastqc.zip\n",
      "HIPPLAT_NEF95054_S2_R2_fastqc.html MICPACI_UW157426_S7_R2_fastqc.html\n",
      "HIPPLAT_NEF95054_S2_R2_fastqc.zip  MICPACI_UW157426_S7_R2_fastqc.zip\n"
     ]
    }
   ],
   "source": [
    "!ls"
   ]
  },
  {
   "cell_type": "code",
   "execution_count": 64,
   "metadata": {},
   "outputs": [
    {
     "name": "stdout",
     "output_type": "stream",
     "text": [
      "\u001b[1;30m[INFO   ]\u001b[0m         multiqc : This is MultiQC v1.9\n",
      "\u001b[1;30m[INFO   ]\u001b[0m         multiqc : Template    : default\n",
      "\u001b[1;30m[INFO   ]\u001b[0m         multiqc : Searching   : /Users/laurelnave-powers/Desktop/GitHub/Laurel-genes/analyses/fastqc\n",
      "\u001b[1;30m[INFO   ]\u001b[0m          fastqc : Found 4 reports\n",
      "\u001b[1;30m[INFO   ]\u001b[0m         multiqc : Compressing plot data\n",
      "\u001b[1;30m[INFO   ]\u001b[0m         multiqc : Report      : multiqc_report.html\n",
      "\u001b[1;30m[INFO   ]\u001b[0m         multiqc : Data        : multiqc_data\n",
      "\u001b[1;30m[INFO   ]\u001b[0m         multiqc : MultiQC complete\n"
     ]
    }
   ],
   "source": [
    "!multiqc ."
   ]
  },
  {
   "cell_type": "code",
   "execution_count": 65,
   "metadata": {},
   "outputs": [
    {
     "name": "stdout",
     "output_type": "stream",
     "text": [
      "HIPPLAT_NEF95054_S2_R1_fastqc.html MICPACI_UW157426_S7_R1_fastqc.zip\n",
      "HIPPLAT_NEF95054_S2_R1_fastqc.zip  MICPACI_UW157426_S7_R2_fastqc.html\n",
      "HIPPLAT_NEF95054_S2_R2_fastqc.html MICPACI_UW157426_S7_R2_fastqc.zip\n",
      "HIPPLAT_NEF95054_S2_R2_fastqc.zip  \u001b[34mmultiqc_data\u001b[m\u001b[m\n",
      "MICPACI_UW157426_S7_R1_fastqc.html multiqc_report.html\n"
     ]
    }
   ],
   "source": [
    "!ls"
   ]
  },
  {
   "cell_type": "code",
   "execution_count": null,
   "metadata": {},
   "outputs": [],
   "source": []
  }
 ],
 "metadata": {
  "kernelspec": {
   "display_name": "Python 3",
   "language": "python",
   "name": "python3"
  },
  "language_info": {
   "codemirror_mode": {
    "name": "ipython",
    "version": 3
   },
   "file_extension": ".py",
   "mimetype": "text/x-python",
   "name": "python",
   "nbconvert_exporter": "python",
   "pygments_lexer": "ipython3",
   "version": "3.8.5"
  }
 },
 "nbformat": 4,
 "nbformat_minor": 4
}
