{
 "cells": [
  {
   "cell_type": "code",
   "execution_count": 1,
   "metadata": {},
   "outputs": [
    {
     "name": "stdout",
     "output_type": "stream",
     "text": [
      "mv: rename .fastq to .fq: No such file or directory\n"
     ]
    }
   ],
   "source": [
    "!mv \"$HIPPLAT_NEF95054_S2_R1.fastq\" \"$(basename \"$HIPPLAT_NEF95054_S2_R1\" .fastq).fq\""
   ]
  },
  {
   "cell_type": "code",
   "execution_count": 2,
   "metadata": {},
   "outputs": [
    {
     "name": "stdout",
     "output_type": "stream",
     "text": [
      "/Users/laurelnave-powers/Desktop/GitHub/Laurel-genes\n"
     ]
    }
   ],
   "source": [
    "!pwd"
   ]
  },
  {
   "cell_type": "code",
   "execution_count": 5,
   "metadata": {},
   "outputs": [
    {
     "name": "stdout",
     "output_type": "stream",
     "text": [
      "/Users/laurelnave-powers/Desktop/GitHub/Laurel-genes/data\n"
     ]
    }
   ],
   "source": [
    "cd /Users/laurelnave-powers/Desktop/GitHub/Laurel-genes/data"
   ]
  },
  {
   "cell_type": "code",
   "execution_count": 6,
   "metadata": {},
   "outputs": [
    {
     "name": "stdout",
     "output_type": "stream",
     "text": [
      "/Users/laurelnave-powers/Desktop/GitHub/Laurel-genes/data\n"
     ]
    }
   ],
   "source": [
    "!pwd"
   ]
  },
  {
   "cell_type": "code",
   "execution_count": 11,
   "metadata": {},
   "outputs": [],
   "source": [
    "!mv \"HIPPLAT_NEF95054_S2_R1.fastq\" \"$(basename \"HIPPLAT_NEF95054_S2_R1\" .fastq).fq\""
   ]
  },
  {
   "cell_type": "code",
   "execution_count": 12,
   "metadata": {},
   "outputs": [
    {
     "name": "stdout",
     "output_type": "stream",
     "text": [
      "\u001b[31mHIPPLAT_NEF95054_S2_R1.fq\u001b[m\u001b[m    \u001b[31mMICPACI_UW157426_S7_R2.fastq\u001b[m\u001b[m\n",
      "\u001b[31mHIPPLAT_NEF95054_S2_R2.fastq\u001b[m\u001b[m \u001b[34mraw\u001b[m\u001b[m\n",
      "\u001b[31mMICPACI_UW157426_S7_R1.fastq\u001b[m\u001b[m\n"
     ]
    }
   ],
   "source": [
    "!ls"
   ]
  },
  {
   "cell_type": "code",
   "execution_count": 13,
   "metadata": {},
   "outputs": [],
   "source": [
    "!mv \"HIPPLAT_NEF95054_S2_R2.fastq\" \"$(basename \"HIPPLAT_NEF95054_S2_R2\" .fastq).fq\""
   ]
  },
  {
   "cell_type": "code",
   "execution_count": 14,
   "metadata": {},
   "outputs": [
    {
     "name": "stdout",
     "output_type": "stream",
     "text": [
      "\u001b[31mHIPPLAT_NEF95054_S2_R1.fq\u001b[m\u001b[m    \u001b[31mMICPACI_UW157426_S7_R2.fastq\u001b[m\u001b[m\n",
      "\u001b[31mHIPPLAT_NEF95054_S2_R2.fq\u001b[m\u001b[m    \u001b[34mraw\u001b[m\u001b[m\n",
      "\u001b[31mMICPACI_UW157426_S7_R1.fastq\u001b[m\u001b[m\n"
     ]
    }
   ],
   "source": [
    "!ls"
   ]
  },
  {
   "cell_type": "code",
   "execution_count": 15,
   "metadata": {},
   "outputs": [],
   "source": [
    "!mv \"MICPACI_UW157426_S7_R1.fastq\" \"$(basename \"MICPACI_UW157426_S7_R1\" .fastq).fq\""
   ]
  },
  {
   "cell_type": "code",
   "execution_count": 16,
   "metadata": {},
   "outputs": [],
   "source": [
    "!mv \"MICPACI_UW157426_S7_R2.fastq\" \"$(basename \"MICPACI_UW157426_S7_R2\" .fastq).fq\""
   ]
  },
  {
   "cell_type": "code",
   "execution_count": 17,
   "metadata": {},
   "outputs": [
    {
     "name": "stdout",
     "output_type": "stream",
     "text": [
      "\u001b[31mHIPPLAT_NEF95054_S2_R1.fq\u001b[m\u001b[m \u001b[31mMICPACI_UW157426_S7_R1.fq\u001b[m\u001b[m \u001b[34mraw\u001b[m\u001b[m\n",
      "\u001b[31mHIPPLAT_NEF95054_S2_R2.fq\u001b[m\u001b[m \u001b[31mMICPACI_UW157426_S7_R2.fq\u001b[m\u001b[m\n"
     ]
    }
   ],
   "source": [
    "!ls"
   ]
  },
  {
   "cell_type": "markdown",
   "metadata": {},
   "source": [
    "I have successfully changed my fastq files into fq files. They have to be .fq in order to work as input files for the perl script trim_adaptor.pl "
   ]
  },
  {
   "cell_type": "code",
   "execution_count": 18,
   "metadata": {},
   "outputs": [
    {
     "name": "stdout",
     "output_type": "stream",
     "text": [
      "/Users/laurelnave-powers/Desktop/GitHub/Laurel-genes\n"
     ]
    }
   ],
   "source": [
    "cd ../"
   ]
  },
  {
   "cell_type": "code",
   "execution_count": 26,
   "metadata": {},
   "outputs": [
    {
     "name": "stdout",
     "output_type": "stream",
     "text": [
      "Can't locate Parallel/ForkManager.pm in @INC (you may need to install the Parallel::ForkManager module) (@INC contains: /Library/Perl/5.18/darwin-thread-multi-2level /Library/Perl/5.18 /Network/Library/Perl/5.18/darwin-thread-multi-2level /Network/Library/Perl/5.18 /Library/Perl/Updates/5.18.4 /System/Library/Perl/5.18/darwin-thread-multi-2level /System/Library/Perl/5.18 /System/Library/Perl/Extras/5.18/darwin-thread-multi-2level /System/Library/Perl/Extras/5.18 .) at trim_adaptor.pl line 6.\n",
      "BEGIN failed--compilation aborted at trim_adaptor.pl line 6.\n"
     ]
    }
   ],
   "source": [
    "!perl trim_adaptor.pl -h"
   ]
  },
  {
   "cell_type": "markdown",
   "metadata": {},
   "source": [
    "I need to install the Parallel/ForkManager.pm before using this script "
   ]
  },
  {
   "cell_type": "code",
   "execution_count": 25,
   "metadata": {},
   "outputs": [
    {
     "name": "stdout",
     "output_type": "stream",
     "text": [
      "\n",
      "This is perl 5, version 18, subversion 4 (v5.18.4) built for darwin-thread-multi-2level\n",
      "(with 2 registered patches, see perl -V for more detail)\n",
      "\n",
      "Copyright 1987-2013, Larry Wall\n",
      "\n",
      "Perl may be copied only under the terms of either the Artistic License or the\n",
      "GNU General Public License, which may be found in the Perl 5 source kit.\n",
      "\n",
      "Complete documentation for Perl, including FAQ lists, should be found on\n",
      "this system using \"man perl\" or \"perldoc perl\".  If you have access to the\n",
      "Internet, point your browser at http://www.perl.org/, the Perl Home Page.\n",
      "\n"
     ]
    }
   ],
   "source": [
    "!perl --version"
   ]
  },
  {
   "cell_type": "code",
   "execution_count": 27,
   "metadata": {},
   "outputs": [
    {
     "name": "stdout",
     "output_type": "stream",
     "text": [
      "Can't open perl script \"Makefile.PL\": No such file or directory\n"
     ]
    }
   ],
   "source": [
    "!perl Makefile.PL && make test && make install"
   ]
  },
  {
   "cell_type": "code",
   "execution_count": 1,
   "metadata": {},
   "outputs": [
    {
     "name": "stdout",
     "output_type": "stream",
     "text": [
      "/Users/laurelnave-powers/Desktop/GitHub/Laurel-genes\n"
     ]
    }
   ],
   "source": [
    "!pwd"
   ]
  },
  {
   "cell_type": "code",
   "execution_count": 2,
   "metadata": {},
   "outputs": [
    {
     "name": "stdout",
     "output_type": "stream",
     "text": [
      "/Library/Perl/5.18\n"
     ]
    }
   ],
   "source": [
    "cd /Library/Perl/5.18"
   ]
  },
  {
   "cell_type": "code",
   "execution_count": 3,
   "metadata": {},
   "outputs": [
    {
     "name": "stdout",
     "output_type": "stream",
     "text": [
      "/Library/Perl/5.18\n"
     ]
    }
   ],
   "source": [
    "!pwd"
   ]
  },
  {
   "cell_type": "code",
   "execution_count": 6,
   "metadata": {},
   "outputs": [
    {
     "name": "stdout",
     "output_type": "stream",
     "text": [
      "\n",
      "Script name: trim_adaptor.pl\n",
      "\n",
      "This is a script to trim low quality bases and adaptor from 3' end of reads\n",
      "\n",
      "Dependencies:\n",
      "(1) trim_galore v0.4.1 or higher\n",
      "(2) cutadapt v1.2.1 or higher\n",
      "\n",
      "Example usage:\n",
      "(1) When inline index are involved in samples\n",
      "\n",
      "\tperl trim_adaptor.pl --raw_reads demultiplexed --inline_index inlineindex.txt --index_pair indexpair.txt --trimmed trimmed\n",
      "\n",
      "(2) When no inline index are involved in samples\n",
      "\n",
      "\tperl trim_adaptor.pl --raw_reads demultiplexed --trimmed trimmed\t\n",
      "\n",
      "Input files: \n",
      "(1) demultiplexed\n",
      "(2) inlineindex.txt (if --inline_index is specified)\n",
      "(3) indexpair.txt (if --index_pair is specified)\n",
      "\n",
      "Output files:\n",
      "(1) trimmed\n",
      "(2) trimmed_reads_bases_count.txt (file summarized number of reads and bases in raw and trimmed reads)\n",
      "\n",
      "Options:\n",
      "--raw_reads\n",
      "  Directory containing demultiplexed reads\n",
      "--inline_index\n",
      "  Inline index file, please refer to inlineindex.txt for its detailed format\n",
      "--index_pair\n",
      "  Inline index pair for each sample, please refer to indexpair.txt for its detailed format\n",
      "--adapter_R1\n",
      "  Adaptor to be trimmed on R1 side for non inline-indexed reads, 'AGATCGGAAGAGCACACGTCTGAACTCCAGTCAC' in default\n",
      "--adapter_R2\n",
      "  Adaptor to be trimmed on R2 side for non inline-indexed reads, 'AGATCGGAAGAGCGTCGTGTAGGGAAAGAGTGT' in default\n",
      "--cutadapt_path\n",
      "  Specify a path to the Cutadapt executable, else it is assumed that Cutadapt is in $PATH\n",
      "--trimmed\n",
      "  Directory containing reads without adaptor and low quality bases\n",
      "--cpu\n",
      "  Limit the number of CPUs, 1 in default\n",
      "--help , -h\n",
      "  Show this help message and exit\n",
      "\n",
      "Author: Hao Yuan                                                                     \n",
      "        Shanghai Ocean University                                               \n",
      "        Shanghai, China, 201306                                                               \n",
      "                                                                                         \n",
      "Created by: 20 Nov, 2018                                                              \n",
      "                                                                                         \n",
      "Last modified by: \n"
     ]
    }
   ],
   "source": [
    "!perl trim_adaptor.pl -h"
   ]
  },
  {
   "cell_type": "code",
   "execution_count": 27,
   "metadata": {},
   "outputs": [
    {
     "name": "stdout",
     "output_type": "stream",
     "text": [
      "Can't exec \"trim_galore\": No such file or directory at trim_adaptor.pl line 42.\n",
      "\n",
      "ERROR: Cannot find trim_galore under $PATH\n",
      "\n"
     ]
    }
   ],
   "source": [
    "!perl trim_adaptor.pl --raw_reads demultiplexed --trimmed trimmed"
   ]
  },
  {
   "cell_type": "code",
   "execution_count": 28,
   "metadata": {},
   "outputs": [
    {
     "name": "stdout",
     "output_type": "stream",
     "text": [
      "/Users/laurelnave-powers/opt/miniconda3/bin:/Users/laurelnave-powers/opt/miniconda3/condabin:/usr/local/bin:/usr/bin:/bin:/usr/sbin:/sbin\n"
     ]
    }
   ],
   "source": [
    "!echo $PATH"
   ]
  },
  {
   "cell_type": "code",
   "execution_count": 29,
   "metadata": {},
   "outputs": [
    {
     "name": "stdout",
     "output_type": "stream",
     "text": [
      "/Library/Perl/5.18\n"
     ]
    }
   ],
   "source": [
    "!pwd"
   ]
  },
  {
   "cell_type": "code",
   "execution_count": 30,
   "metadata": {},
   "outputs": [
    {
     "name": "stdout",
     "output_type": "stream",
     "text": [
      "/Users/laurelnave-powers/opt/miniconda3/lib/5.32.0/darwin-thread-multi-2level\n"
     ]
    }
   ],
   "source": [
    "cd /Users/laurelnave-powers/opt/miniconda3/lib/5.32.0/darwin-thread-multi-2level"
   ]
  },
  {
   "cell_type": "code",
   "execution_count": 32,
   "metadata": {},
   "outputs": [
    {
     "name": "stdout",
     "output_type": "stream",
     "text": [
      "Can't exec \"trim_galore\": No such file or directory at trim_adaptor.pl line 42.\n",
      "\n",
      "ERROR: Cannot find trim_galore under $PATH\n",
      "\n"
     ]
    }
   ],
   "source": [
    "!perl trim_adaptor.pl --raw_reads demultiplexed --trimmed trimmed"
   ]
  },
  {
   "cell_type": "code",
   "execution_count": null,
   "metadata": {},
   "outputs": [],
   "source": []
  }
 ],
 "metadata": {
  "kernelspec": {
   "display_name": "Python 3",
   "language": "python",
   "name": "python3"
  },
  "language_info": {
   "codemirror_mode": {
    "name": "ipython",
    "version": 3
   },
   "file_extension": ".py",
   "mimetype": "text/x-python",
   "name": "python",
   "nbconvert_exporter": "python",
   "pygments_lexer": "ipython3",
   "version": "3.8.5"
  }
 },
 "nbformat": 4,
 "nbformat_minor": 4
}
